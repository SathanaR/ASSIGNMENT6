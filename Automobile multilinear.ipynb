{
 "cells": [
  {
   "cell_type": "code",
   "execution_count": 1068,
   "id": "4596e19c",
   "metadata": {},
   "outputs": [],
   "source": [
    "import pandas as pd\n",
    "import numpy as np\n",
    "import seaborn as sns\n",
    "import matplotlib.pyplot as plt\n",
    "from scipy import stats\n",
    "import statsmodels.api as  sm"
   ]
  },
  {
   "cell_type": "code",
   "execution_count": 1069,
   "id": "e2813836",
   "metadata": {},
   "outputs": [],
   "source": [
    "data=pd.read_csv(\"https://archive.ics.uci.edu/ml/machine-learning-databases/autos/imports-85.data\",header=None,names=[\"sym\",\"nor_los\",\"make\",\"fuel_type\",\"asp\",\"no_door\",\"body_style\",\"d_wheel\",\"engine_loc\",\"wheel_base\",\"length\",\"width\",\"height\",\"curb_weight\",\"engine_type\",\"no_cyl\",\"engine_size\",\"fuel_system\",\"bore\",\"stroke\",\"com_ratio\",\"hpower\",\"peak_rpm\",\"city_mpg\",\"high_mpg\",\"price\"],na_values='?')"
   ]
  },
  {
   "cell_type": "code",
   "execution_count": 1070,
   "id": "a6ccf25c",
   "metadata": {},
   "outputs": [
    {
     "data": {
      "text/html": [
       "<div>\n",
       "<style scoped>\n",
       "    .dataframe tbody tr th:only-of-type {\n",
       "        vertical-align: middle;\n",
       "    }\n",
       "\n",
       "    .dataframe tbody tr th {\n",
       "        vertical-align: top;\n",
       "    }\n",
       "\n",
       "    .dataframe thead th {\n",
       "        text-align: right;\n",
       "    }\n",
       "</style>\n",
       "<table border=\"1\" class=\"dataframe\">\n",
       "  <thead>\n",
       "    <tr style=\"text-align: right;\">\n",
       "      <th></th>\n",
       "      <th>sym</th>\n",
       "      <th>nor_los</th>\n",
       "      <th>make</th>\n",
       "      <th>fuel_type</th>\n",
       "      <th>asp</th>\n",
       "      <th>no_door</th>\n",
       "      <th>body_style</th>\n",
       "      <th>d_wheel</th>\n",
       "      <th>engine_loc</th>\n",
       "      <th>wheel_base</th>\n",
       "      <th>...</th>\n",
       "      <th>engine_size</th>\n",
       "      <th>fuel_system</th>\n",
       "      <th>bore</th>\n",
       "      <th>stroke</th>\n",
       "      <th>com_ratio</th>\n",
       "      <th>hpower</th>\n",
       "      <th>peak_rpm</th>\n",
       "      <th>city_mpg</th>\n",
       "      <th>high_mpg</th>\n",
       "      <th>price</th>\n",
       "    </tr>\n",
       "  </thead>\n",
       "  <tbody>\n",
       "    <tr>\n",
       "      <th>0</th>\n",
       "      <td>3</td>\n",
       "      <td>NaN</td>\n",
       "      <td>alfa-romero</td>\n",
       "      <td>gas</td>\n",
       "      <td>std</td>\n",
       "      <td>two</td>\n",
       "      <td>convertible</td>\n",
       "      <td>rwd</td>\n",
       "      <td>front</td>\n",
       "      <td>88.6</td>\n",
       "      <td>...</td>\n",
       "      <td>130</td>\n",
       "      <td>mpfi</td>\n",
       "      <td>3.47</td>\n",
       "      <td>2.68</td>\n",
       "      <td>9.0</td>\n",
       "      <td>111.0</td>\n",
       "      <td>5000.0</td>\n",
       "      <td>21</td>\n",
       "      <td>27</td>\n",
       "      <td>13495.0</td>\n",
       "    </tr>\n",
       "    <tr>\n",
       "      <th>1</th>\n",
       "      <td>3</td>\n",
       "      <td>NaN</td>\n",
       "      <td>alfa-romero</td>\n",
       "      <td>gas</td>\n",
       "      <td>std</td>\n",
       "      <td>two</td>\n",
       "      <td>convertible</td>\n",
       "      <td>rwd</td>\n",
       "      <td>front</td>\n",
       "      <td>88.6</td>\n",
       "      <td>...</td>\n",
       "      <td>130</td>\n",
       "      <td>mpfi</td>\n",
       "      <td>3.47</td>\n",
       "      <td>2.68</td>\n",
       "      <td>9.0</td>\n",
       "      <td>111.0</td>\n",
       "      <td>5000.0</td>\n",
       "      <td>21</td>\n",
       "      <td>27</td>\n",
       "      <td>16500.0</td>\n",
       "    </tr>\n",
       "    <tr>\n",
       "      <th>2</th>\n",
       "      <td>1</td>\n",
       "      <td>NaN</td>\n",
       "      <td>alfa-romero</td>\n",
       "      <td>gas</td>\n",
       "      <td>std</td>\n",
       "      <td>two</td>\n",
       "      <td>hatchback</td>\n",
       "      <td>rwd</td>\n",
       "      <td>front</td>\n",
       "      <td>94.5</td>\n",
       "      <td>...</td>\n",
       "      <td>152</td>\n",
       "      <td>mpfi</td>\n",
       "      <td>2.68</td>\n",
       "      <td>3.47</td>\n",
       "      <td>9.0</td>\n",
       "      <td>154.0</td>\n",
       "      <td>5000.0</td>\n",
       "      <td>19</td>\n",
       "      <td>26</td>\n",
       "      <td>16500.0</td>\n",
       "    </tr>\n",
       "    <tr>\n",
       "      <th>3</th>\n",
       "      <td>2</td>\n",
       "      <td>164.0</td>\n",
       "      <td>audi</td>\n",
       "      <td>gas</td>\n",
       "      <td>std</td>\n",
       "      <td>four</td>\n",
       "      <td>sedan</td>\n",
       "      <td>fwd</td>\n",
       "      <td>front</td>\n",
       "      <td>99.8</td>\n",
       "      <td>...</td>\n",
       "      <td>109</td>\n",
       "      <td>mpfi</td>\n",
       "      <td>3.19</td>\n",
       "      <td>3.40</td>\n",
       "      <td>10.0</td>\n",
       "      <td>102.0</td>\n",
       "      <td>5500.0</td>\n",
       "      <td>24</td>\n",
       "      <td>30</td>\n",
       "      <td>13950.0</td>\n",
       "    </tr>\n",
       "    <tr>\n",
       "      <th>4</th>\n",
       "      <td>2</td>\n",
       "      <td>164.0</td>\n",
       "      <td>audi</td>\n",
       "      <td>gas</td>\n",
       "      <td>std</td>\n",
       "      <td>four</td>\n",
       "      <td>sedan</td>\n",
       "      <td>4wd</td>\n",
       "      <td>front</td>\n",
       "      <td>99.4</td>\n",
       "      <td>...</td>\n",
       "      <td>136</td>\n",
       "      <td>mpfi</td>\n",
       "      <td>3.19</td>\n",
       "      <td>3.40</td>\n",
       "      <td>8.0</td>\n",
       "      <td>115.0</td>\n",
       "      <td>5500.0</td>\n",
       "      <td>18</td>\n",
       "      <td>22</td>\n",
       "      <td>17450.0</td>\n",
       "    </tr>\n",
       "  </tbody>\n",
       "</table>\n",
       "<p>5 rows × 26 columns</p>\n",
       "</div>"
      ],
      "text/plain": [
       "   sym  nor_los         make fuel_type  asp no_door   body_style d_wheel  \\\n",
       "0    3      NaN  alfa-romero       gas  std     two  convertible     rwd   \n",
       "1    3      NaN  alfa-romero       gas  std     two  convertible     rwd   \n",
       "2    1      NaN  alfa-romero       gas  std     two    hatchback     rwd   \n",
       "3    2    164.0         audi       gas  std    four        sedan     fwd   \n",
       "4    2    164.0         audi       gas  std    four        sedan     4wd   \n",
       "\n",
       "  engine_loc  wheel_base  ...  engine_size  fuel_system  bore  stroke  \\\n",
       "0      front        88.6  ...          130         mpfi  3.47    2.68   \n",
       "1      front        88.6  ...          130         mpfi  3.47    2.68   \n",
       "2      front        94.5  ...          152         mpfi  2.68    3.47   \n",
       "3      front        99.8  ...          109         mpfi  3.19    3.40   \n",
       "4      front        99.4  ...          136         mpfi  3.19    3.40   \n",
       "\n",
       "  com_ratio hpower  peak_rpm city_mpg  high_mpg    price  \n",
       "0       9.0  111.0    5000.0       21        27  13495.0  \n",
       "1       9.0  111.0    5000.0       21        27  16500.0  \n",
       "2       9.0  154.0    5000.0       19        26  16500.0  \n",
       "3      10.0  102.0    5500.0       24        30  13950.0  \n",
       "4       8.0  115.0    5500.0       18        22  17450.0  \n",
       "\n",
       "[5 rows x 26 columns]"
      ]
     },
     "execution_count": 1070,
     "metadata": {},
     "output_type": "execute_result"
    }
   ],
   "source": [
    "data.head()"
   ]
  },
  {
   "cell_type": "markdown",
   "id": "2c3c02c9",
   "metadata": {},
   "source": [
    "<H6>\n",
    "COLUMN 1 SYMBOLING\n",
    "<H6>"
   ]
  },
  {
   "cell_type": "code",
   "execution_count": 1071,
   "id": "0d0c5bba",
   "metadata": {},
   "outputs": [
    {
     "data": {
      "text/plain": [
       " 0    67\n",
       " 1    54\n",
       " 2    32\n",
       " 3    27\n",
       "-1    22\n",
       "-2     3\n",
       "Name: sym, dtype: int64"
      ]
     },
     "execution_count": 1071,
     "metadata": {},
     "output_type": "execute_result"
    }
   ],
   "source": [
    "data.sym.value_counts()"
   ]
  },
  {
   "cell_type": "code",
   "execution_count": 1072,
   "id": "ea58ceee",
   "metadata": {},
   "outputs": [
    {
     "data": {
      "text/plain": [
       "0"
      ]
     },
     "execution_count": 1072,
     "metadata": {},
     "output_type": "execute_result"
    }
   ],
   "source": [
    "data.sym.isnull().sum()"
   ]
  },
  {
   "cell_type": "code",
   "execution_count": 1073,
   "id": "2a66a91a",
   "metadata": {},
   "outputs": [
    {
     "data": {
      "text/plain": [
       "array([ 3,  1,  2,  0, -1, -2], dtype=int64)"
      ]
     },
     "execution_count": 1073,
     "metadata": {},
     "output_type": "execute_result"
    }
   ],
   "source": [
    "data.sym.unique()"
   ]
  },
  {
   "cell_type": "code",
   "execution_count": 1074,
   "id": "7373ebb2",
   "metadata": {},
   "outputs": [
    {
     "name": "stderr",
     "output_type": "stream",
     "text": [
      "C:\\ProgramData\\Anaconda3\\lib\\site-packages\\seaborn\\_decorators.py:36: FutureWarning: Pass the following variable as a keyword arg: x. From version 0.12, the only valid positional argument will be `data`, and passing other arguments without an explicit keyword will result in an error or misinterpretation.\n",
      "  warnings.warn(\n"
     ]
    },
    {
     "data": {
      "text/plain": [
       "<AxesSubplot:xlabel='sym', ylabel='count'>"
      ]
     },
     "execution_count": 1074,
     "metadata": {},
     "output_type": "execute_result"
    },
    {
     "data": {
      "image/png": "[encoded data removed]",
      "text/plain": [
       "<Figure size 432x288 with 1 Axes>"
      ]
     },
     "metadata": {
      "needs_background": "light"
     },
     "output_type": "display_data"
    }
   ],
   "source": [
    "sns.countplot(data.sym)"
   ]
  },
  {
   "cell_type": "markdown",
   "id": "02c2a5d2",
   "metadata": {},
   "source": [
    "<H6>\n",
    "data is re arranged  as less than zero,zero,one,two,three\n",
    "<H6>"
   ]
  },
  {
   "cell_type": "code",
   "execution_count": 1075,
   "id": "9d3f7a08",
   "metadata": {},
   "outputs": [],
   "source": [
    "data.sym.replace([-2,-1,0,1,2,3],['less than zero','less than zero','zero','one','two','three'],inplace=True)"
   ]
  },
  {
   "cell_type": "code",
   "execution_count": 1076,
   "id": "02805ca3",
   "metadata": {},
   "outputs": [
    {
     "name": "stderr",
     "output_type": "stream",
     "text": [
      "C:\\ProgramData\\Anaconda3\\lib\\site-packages\\seaborn\\_decorators.py:36: FutureWarning: Pass the following variable as a keyword arg: x. From version 0.12, the only valid positional argument will be `data`, and passing other arguments without an explicit keyword will result in an error or misinterpretation.\n",
      "  warnings.warn(\n"
     ]
    },
    {
     "data": {
      "text/plain": [
       "<AxesSubplot:xlabel='sym', ylabel='count'>"
      ]
     },
     "execution_count": 1076,
     "metadata": {},
     "output_type": "execute_result"
    },
    {
     "data": {
      "image/png": "[encoded data removed]",
      "text/plain": [
       "<Figure size 432x288 with 1 Axes>"
      ]
     },
     "metadata": {
      "needs_background": "light"
     },
     "output_type": "display_data"
    }
   ],
   "source": [
    "sns.countplot(data.sym,order=['less than zero','zero','one','two','three'])"
   ]
  },
  {
   "cell_type": "markdown",
   "id": "991c0570",
   "metadata": {},
   "source": [
    "<H6>\n",
    "COLUMN2:  NORMALIZED LOSES\n",
    "    <H6>"
   ]
  },
  {
   "cell_type": "code",
   "execution_count": 1077,
   "id": "cbc122f2",
   "metadata": {},
   "outputs": [
    {
     "data": {
      "text/plain": [
       "41"
      ]
     },
     "execution_count": 1077,
     "metadata": {},
     "output_type": "execute_result"
    }
   ],
   "source": [
    "data.nor_los.isnull().sum()\n"
   ]
  },
  {
   "cell_type": "code",
   "execution_count": 1078,
   "id": "613b3bf4",
   "metadata": {},
   "outputs": [
    {
     "data": {
      "text/plain": [
       "count    164.000000\n",
       "mean     122.000000\n",
       "std       35.442168\n",
       "min       65.000000\n",
       "25%       94.000000\n",
       "50%      115.000000\n",
       "75%      150.000000\n",
       "max      256.000000\n",
       "Name: nor_los, dtype: float64"
      ]
     },
     "execution_count": 1078,
     "metadata": {},
     "output_type": "execute_result"
    }
   ],
   "source": [
    "data.nor_los.describe()"
   ]
  },
  {
   "cell_type": "code",
   "execution_count": 1079,
   "id": "cc690458",
   "metadata": {},
   "outputs": [],
   "source": [
    "data.nor_los.fillna(data.nor_los.mean(),inplace=True)"
   ]
  },
  {
   "cell_type": "code",
   "execution_count": 1080,
   "id": "7a0d6e6d",
   "metadata": {},
   "outputs": [
    {
     "data": {
      "text/plain": [
       "0"
      ]
     },
     "execution_count": 1080,
     "metadata": {},
     "output_type": "execute_result"
    }
   ],
   "source": [
    "data.nor_los.isnull().sum()"
   ]
  },
  {
   "cell_type": "code",
   "execution_count": 1081,
   "id": "33fb0c34",
   "metadata": {},
   "outputs": [
    {
     "data": {
      "text/plain": [
       "{'whiskers': [<matplotlib.lines.Line2D at 0x1ead2fe5ac0>,\n",
       "  <matplotlib.lines.Line2D at 0x1ead2fe5e50>],\n",
       " 'caps': [<matplotlib.lines.Line2D at 0x1ead2ff6130>,\n",
       "  <matplotlib.lines.Line2D at 0x1ead2ff64c0>],\n",
       " 'boxes': [<matplotlib.lines.Line2D at 0x1ead2fe5730>],\n",
       " 'medians': [<matplotlib.lines.Line2D at 0x1ead2ff6850>],\n",
       " 'fliers': [<matplotlib.lines.Line2D at 0x1ead2ff6be0>],\n",
       " 'means': []}"
      ]
     },
     "execution_count": 1081,
     "metadata": {},
     "output_type": "execute_result"
    },
    {
     "data": {
      "image/png": "[encoded data removed]",
      "text/plain": [
       "<Figure size 432x288 with 1 Axes>"
      ]
     },
     "metadata": {
      "needs_background": "light"
     },
     "output_type": "display_data"
    }
   ],
   "source": [
    "plt.boxplot(data.nor_los)"
   ]
  },
  {
   "cell_type": "code",
   "execution_count": 1082,
   "id": "60269db3",
   "metadata": {},
   "outputs": [
    {
     "data": {
      "text/plain": [
       "array([122., 164., 158., 192., 188., 121.,  98.,  81., 118., 148., 110.,\n",
       "       145., 137., 101.,  78., 106.,  85., 107., 104., 113., 150., 129.,\n",
       "       115.,  93., 142., 161., 153., 125., 128., 103., 168., 108., 194.,\n",
       "       231., 119., 154.,  74., 186.,  83., 102.,  89.,  87.,  77.,  91.,\n",
       "       134.,  65., 197.,  90.,  94., 256.,  95.])"
      ]
     },
     "execution_count": 1082,
     "metadata": {},
     "output_type": "execute_result"
    }
   ],
   "source": [
    "data.nor_los.unique()"
   ]
  },
  {
   "cell_type": "code",
   "execution_count": 1083,
   "id": "73a4af3c",
   "metadata": {},
   "outputs": [
    {
     "data": {
      "text/plain": [
       "(array([17., 46., 72., 20., 21., 18.,  9.,  0.,  1.,  1.]),\n",
       " array([ 65. ,  84.1, 103.2, 122.3, 141.4, 160.5, 179.6, 198.7, 217.8,\n",
       "        236.9, 256. ]),\n",
       " <BarContainer object of 10 artists>)"
      ]
     },
     "execution_count": 1083,
     "metadata": {},
     "output_type": "execute_result"
    },
    {
     "data": {
      "image/png": "[encoded data removed]",
      "text/plain": [
       "<Figure size 432x288 with 1 Axes>"
      ]
     },
     "metadata": {
      "needs_background": "light"
     },
     "output_type": "display_data"
    }
   ],
   "source": [
    "plt.hist(data.nor_los)"
   ]
  },
  {
   "cell_type": "markdown",
   "id": "0792ffd6",
   "metadata": {},
   "source": [
    "<H6> \n",
    "COLUMN  3:MAKE\n",
    "    <H6>"
   ]
  },
  {
   "cell_type": "code",
   "execution_count": 1084,
   "id": "da5e29c4",
   "metadata": {},
   "outputs": [
    {
     "data": {
      "text/plain": [
       "toyota           32\n",
       "nissan           18\n",
       "mazda            17\n",
       "mitsubishi       13\n",
       "honda            13\n",
       "volkswagen       12\n",
       "subaru           12\n",
       "peugot           11\n",
       "volvo            11\n",
       "dodge             9\n",
       "mercedes-benz     8\n",
       "bmw               8\n",
       "audi              7\n",
       "plymouth          7\n",
       "saab              6\n",
       "porsche           5\n",
       "isuzu             4\n",
       "jaguar            3\n",
       "chevrolet         3\n",
       "alfa-romero       3\n",
       "renault           2\n",
       "mercury           1\n",
       "Name: make, dtype: int64"
      ]
     },
     "execution_count": 1084,
     "metadata": {},
     "output_type": "execute_result"
    }
   ],
   "source": [
    "data.make.value_counts()"
   ]
  },
  {
   "cell_type": "code",
   "execution_count": 1085,
   "id": "5aa4d7c9",
   "metadata": {},
   "outputs": [
    {
     "data": {
      "text/plain": [
       "0"
      ]
     },
     "execution_count": 1085,
     "metadata": {},
     "output_type": "execute_result"
    }
   ],
   "source": [
    "data.make.isnull().sum()"
   ]
  },
  {
   "cell_type": "code",
   "execution_count": 1086,
   "id": "b2f5d2e0",
   "metadata": {},
   "outputs": [
    {
     "data": {
      "text/plain": [
       "array(['alfa-romero', 'audi', 'bmw', 'chevrolet', 'dodge', 'honda',\n",
       "       'isuzu', 'jaguar', 'mazda', 'mercedes-benz', 'mercury',\n",
       "       'mitsubishi', 'nissan', 'peugot', 'plymouth', 'porsche', 'renault',\n",
       "       'saab', 'subaru', 'toyota', 'volkswagen', 'volvo'], dtype=object)"
      ]
     },
     "execution_count": 1086,
     "metadata": {},
     "output_type": "execute_result"
    }
   ],
   "source": [
    "data.make.unique()"
   ]
  },
  {
   "cell_type": "code",
   "execution_count": 1087,
   "id": "2a199628",
   "metadata": {},
   "outputs": [
    {
     "name": "stderr",
     "output_type": "stream",
     "text": [
      "C:\\ProgramData\\Anaconda3\\lib\\site-packages\\seaborn\\_decorators.py:36: FutureWarning: Pass the following variable as a keyword arg: x. From version 0.12, the only valid positional argument will be `data`, and passing other arguments without an explicit keyword will result in an error or misinterpretation.\n",
      "  warnings.warn(\n"
     ]
    },
    {
     "data": {
      "text/plain": [
       "<AxesSubplot:xlabel='make', ylabel='count'>"
      ]
     },
     "execution_count": 1087,
     "metadata": {},
     "output_type": "execute_result"
    },
    {
     "data": {
      "image/png": "[encoded data removed]",
      "text/plain": [
       "<Figure size 2160x1440 with 1 Axes>"
      ]
     },
     "metadata": {
      "needs_background": "light"
     },
     "output_type": "display_data"
    }
   ],
   "source": [
    "plt.figure(figsize=(30,20))\n",
    "sns.countplot(data.make)"
   ]
  },
  {
   "cell_type": "markdown",
   "id": "a79a422c",
   "metadata": {},
   "source": [
    "<H6>\n",
    "COLUMN4: FUEL TYPES\n",
    "    <H6>"
   ]
  },
  {
   "cell_type": "code",
   "execution_count": 1088,
   "id": "1734b7f9",
   "metadata": {},
   "outputs": [
    {
     "data": {
      "text/plain": [
       "gas       185\n",
       "diesel     20\n",
       "Name: fuel_type, dtype: int64"
      ]
     },
     "execution_count": 1088,
     "metadata": {},
     "output_type": "execute_result"
    }
   ],
   "source": [
    "data.fuel_type.value_counts()"
   ]
  },
  {
   "cell_type": "code",
   "execution_count": 1089,
   "id": "90663719",
   "metadata": {},
   "outputs": [
    {
     "data": {
      "text/plain": [
       "0"
      ]
     },
     "execution_count": 1089,
     "metadata": {},
     "output_type": "execute_result"
    }
   ],
   "source": [
    "data.fuel_type.isnull().sum()"
   ]
  },
  {
   "cell_type": "code",
   "execution_count": 1090,
   "id": "706d1896",
   "metadata": {},
   "outputs": [
    {
     "data": {
      "text/plain": [
       "array(['gas', 'diesel'], dtype=object)"
      ]
     },
     "execution_count": 1090,
     "metadata": {},
     "output_type": "execute_result"
    }
   ],
   "source": [
    "data.fuel_type.unique()"
   ]
  },
  {
   "cell_type": "code",
   "execution_count": 1091,
   "id": "733880ac",
   "metadata": {},
   "outputs": [
    {
     "name": "stderr",
     "output_type": "stream",
     "text": [
      "C:\\ProgramData\\Anaconda3\\lib\\site-packages\\seaborn\\_decorators.py:36: FutureWarning: Pass the following variable as a keyword arg: x. From version 0.12, the only valid positional argument will be `data`, and passing other arguments without an explicit keyword will result in an error or misinterpretation.\n",
      "  warnings.warn(\n"
     ]
    },
    {
     "data": {
      "text/plain": [
       "<AxesSubplot:xlabel='fuel_type', ylabel='count'>"
      ]
     },
     "execution_count": 1091,
     "metadata": {},
     "output_type": "execute_result"
    },
    {
     "data": {
      "image/png": "[encoded data removed]",
      "text/plain": [
       "<Figure size 432x288 with 1 Axes>"
      ]
     },
     "metadata": {
      "needs_background": "light"
     },
     "output_type": "display_data"
    }
   ],
   "source": [
    "sns.countplot(data.fuel_type)"
   ]
  },
  {
   "cell_type": "markdown",
   "id": "b257eae6",
   "metadata": {},
   "source": [
    "<H6>\n",
    "COLUMN5: ASPIRATION\n",
    "    <H6>"
   ]
  },
  {
   "cell_type": "code",
   "execution_count": 1092,
   "id": "af32bfbc",
   "metadata": {},
   "outputs": [
    {
     "data": {
      "text/plain": [
       "count     205\n",
       "unique      2\n",
       "top       std\n",
       "freq      168\n",
       "Name: asp, dtype: object"
      ]
     },
     "execution_count": 1092,
     "metadata": {},
     "output_type": "execute_result"
    }
   ],
   "source": [
    "data.asp.describe()"
   ]
  },
  {
   "cell_type": "code",
   "execution_count": 1093,
   "id": "0d9435c8",
   "metadata": {},
   "outputs": [
    {
     "data": {
      "text/plain": [
       "std      168\n",
       "turbo     37\n",
       "Name: asp, dtype: int64"
      ]
     },
     "execution_count": 1093,
     "metadata": {},
     "output_type": "execute_result"
    }
   ],
   "source": [
    "data.asp.value_counts()"
   ]
  },
  {
   "cell_type": "code",
   "execution_count": 1094,
   "id": "1da00390",
   "metadata": {},
   "outputs": [
    {
     "data": {
      "text/plain": [
       "0"
      ]
     },
     "execution_count": 1094,
     "metadata": {},
     "output_type": "execute_result"
    }
   ],
   "source": [
    "data.asp.isnull().sum()"
   ]
  },
  {
   "cell_type": "code",
   "execution_count": 1095,
   "id": "eba60372",
   "metadata": {},
   "outputs": [
    {
     "data": {
      "text/plain": [
       "array(['std', 'turbo'], dtype=object)"
      ]
     },
     "execution_count": 1095,
     "metadata": {},
     "output_type": "execute_result"
    }
   ],
   "source": [
    "data.asp.unique()"
   ]
  },
  {
   "cell_type": "code",
   "execution_count": 1096,
   "id": "27e4e71f",
   "metadata": {},
   "outputs": [
    {
     "name": "stderr",
     "output_type": "stream",
     "text": [
      "C:\\ProgramData\\Anaconda3\\lib\\site-packages\\seaborn\\_decorators.py:36: FutureWarning: Pass the following variable as a keyword arg: x. From version 0.12, the only valid positional argument will be `data`, and passing other arguments without an explicit keyword will result in an error or misinterpretation.\n",
      "  warnings.warn(\n"
     ]
    },
    {
     "data": {
      "text/plain": [
       "<AxesSubplot:xlabel='asp', ylabel='count'>"
      ]
     },
     "execution_count": 1096,
     "metadata": {},
     "output_type": "execute_result"
    },
    {
     "data": {
      "image/png": "[encoded data removed]",
      "text/plain": [
       "<Figure size 432x288 with 1 Axes>"
      ]
     },
     "metadata": {
      "needs_background": "light"
     },
     "output_type": "display_data"
    }
   ],
   "source": [
    "sns.countplot(data.asp)"
   ]
  },
  {
   "cell_type": "markdown",
   "id": "73c590fc",
   "metadata": {},
   "source": [
    "<H6>\n",
    "COLUMN 6: NUMBER OF DOORS\n",
    "    <H6>"
   ]
  },
  {
   "cell_type": "code",
   "execution_count": 1097,
   "id": "ddadc479",
   "metadata": {},
   "outputs": [
    {
     "data": {
      "text/plain": [
       "count      203\n",
       "unique       2\n",
       "top       four\n",
       "freq       114\n",
       "Name: no_door, dtype: object"
      ]
     },
     "execution_count": 1097,
     "metadata": {},
     "output_type": "execute_result"
    }
   ],
   "source": [
    "data.no_door.describe()"
   ]
  },
  {
   "cell_type": "code",
   "execution_count": 1098,
   "id": "39c1ef64",
   "metadata": {},
   "outputs": [
    {
     "data": {
      "text/plain": [
       "four    114\n",
       "two      89\n",
       "Name: no_door, dtype: int64"
      ]
     },
     "execution_count": 1098,
     "metadata": {},
     "output_type": "execute_result"
    }
   ],
   "source": [
    "data.no_door.value_counts()"
   ]
  },
  {
   "cell_type": "code",
   "execution_count": 1099,
   "id": "677be1a4",
   "metadata": {},
   "outputs": [
    {
     "data": {
      "text/plain": [
       "2"
      ]
     },
     "execution_count": 1099,
     "metadata": {},
     "output_type": "execute_result"
    }
   ],
   "source": [
    "data.no_door.isnull().sum()"
   ]
  },
  {
   "cell_type": "code",
   "execution_count": 1100,
   "id": "ad3f6fba",
   "metadata": {},
   "outputs": [],
   "source": [
    "data.no_door.fillna('four',inplace=True)"
   ]
  },
  {
   "cell_type": "code",
   "execution_count": 1101,
   "id": "f8fafdeb",
   "metadata": {},
   "outputs": [
    {
     "data": {
      "text/plain": [
       "0"
      ]
     },
     "execution_count": 1101,
     "metadata": {},
     "output_type": "execute_result"
    }
   ],
   "source": [
    "data.no_door.isnull().sum()"
   ]
  },
  {
   "cell_type": "code",
   "execution_count": 1102,
   "id": "68cfc708",
   "metadata": {},
   "outputs": [
    {
     "data": {
      "text/plain": [
       "array(['two', 'four'], dtype=object)"
      ]
     },
     "execution_count": 1102,
     "metadata": {},
     "output_type": "execute_result"
    }
   ],
   "source": [
    "data.no_door.unique()"
   ]
  },
  {
   "cell_type": "code",
   "execution_count": 1103,
   "id": "bb4f395a",
   "metadata": {},
   "outputs": [
    {
     "name": "stderr",
     "output_type": "stream",
     "text": [
      "C:\\ProgramData\\Anaconda3\\lib\\site-packages\\seaborn\\_decorators.py:36: FutureWarning: Pass the following variable as a keyword arg: x. From version 0.12, the only valid positional argument will be `data`, and passing other arguments without an explicit keyword will result in an error or misinterpretation.\n",
      "  warnings.warn(\n"
     ]
    },
    {
     "data": {
      "text/plain": [
       "<AxesSubplot:xlabel='no_door', ylabel='count'>"
      ]
     },
     "execution_count": 1103,
     "metadata": {},
     "output_type": "execute_result"
    },
    {
     "data": {
      "image/png": "[encoded data removed]",
      "text/plain": [
       "<Figure size 432x288 with 1 Axes>"
      ]
     },
     "metadata": {
      "needs_background": "light"
     },
     "output_type": "display_data"
    }
   ],
   "source": [
    "sns.countplot(data.no_door)"
   ]
  },
  {
   "cell_type": "markdown",
   "id": "d5417d8e",
   "metadata": {},
   "source": [
    "<H6>\n",
    "COLUMN 7:  BODY STYLE\n",
    "    <H6>"
   ]
  },
  {
   "cell_type": "code",
   "execution_count": 1104,
   "id": "0f5ca6cf",
   "metadata": {},
   "outputs": [
    {
     "data": {
      "text/plain": [
       "count       205\n",
       "unique        5\n",
       "top       sedan\n",
       "freq         96\n",
       "Name: body_style, dtype: object"
      ]
     },
     "execution_count": 1104,
     "metadata": {},
     "output_type": "execute_result"
    }
   ],
   "source": [
    "data.body_style.describe()"
   ]
  },
  {
   "cell_type": "code",
   "execution_count": 1105,
   "id": "67a88869",
   "metadata": {},
   "outputs": [
    {
     "data": {
      "text/plain": [
       "sedan          96\n",
       "hatchback      70\n",
       "wagon          25\n",
       "hardtop         8\n",
       "convertible     6\n",
       "Name: body_style, dtype: int64"
      ]
     },
     "execution_count": 1105,
     "metadata": {},
     "output_type": "execute_result"
    }
   ],
   "source": [
    "data.body_style.value_counts()"
   ]
  },
  {
   "cell_type": "code",
   "execution_count": 1106,
   "id": "c2265351",
   "metadata": {},
   "outputs": [
    {
     "data": {
      "text/plain": [
       "0"
      ]
     },
     "execution_count": 1106,
     "metadata": {},
     "output_type": "execute_result"
    }
   ],
   "source": [
    "data.body_style.isnull().sum()"
   ]
  },
  {
   "cell_type": "code",
   "execution_count": 1107,
   "id": "80a3696f",
   "metadata": {},
   "outputs": [
    {
     "data": {
      "text/plain": [
       "array(['convertible', 'hatchback', 'sedan', 'wagon', 'hardtop'],\n",
       "      dtype=object)"
      ]
     },
     "execution_count": 1107,
     "metadata": {},
     "output_type": "execute_result"
    }
   ],
   "source": [
    "data.body_style.unique()"
   ]
  },
  {
   "cell_type": "code",
   "execution_count": 1108,
   "id": "33681b35",
   "metadata": {},
   "outputs": [
    {
     "name": "stderr",
     "output_type": "stream",
     "text": [
      "C:\\ProgramData\\Anaconda3\\lib\\site-packages\\seaborn\\_decorators.py:36: FutureWarning: Pass the following variable as a keyword arg: x. From version 0.12, the only valid positional argument will be `data`, and passing other arguments without an explicit keyword will result in an error or misinterpretation.\n",
      "  warnings.warn(\n"
     ]
    },
    {
     "data": {
      "text/plain": [
       "<AxesSubplot:xlabel='body_style', ylabel='count'>"
      ]
     },
     "execution_count": 1108,
     "metadata": {},
     "output_type": "execute_result"
    },
    {
     "data": {
      "image/png": "[encoded data removed]",
      "text/plain": [
       "<Figure size 432x288 with 1 Axes>"
      ]
     },
     "metadata": {
      "needs_background": "light"
     },
     "output_type": "display_data"
    }
   ],
   "source": [
    "sns.countplot(data.body_style)"
   ]
  },
  {
   "cell_type": "markdown",
   "id": "fb72f2e9",
   "metadata": {},
   "source": [
    "<H6>\n",
    "COLUMN 8 :DRIVE WHEELS\n",
    "<H6>"
   ]
  },
  {
   "cell_type": "code",
   "execution_count": 1109,
   "id": "22a71c32",
   "metadata": {},
   "outputs": [
    {
     "data": {
      "text/plain": [
       "count     205\n",
       "unique      3\n",
       "top       fwd\n",
       "freq      120\n",
       "Name: d_wheel, dtype: object"
      ]
     },
     "execution_count": 1109,
     "metadata": {},
     "output_type": "execute_result"
    }
   ],
   "source": [
    "data.d_wheel.describe()"
   ]
  },
  {
   "cell_type": "code",
   "execution_count": 1110,
   "id": "deb1a8e8",
   "metadata": {},
   "outputs": [
    {
     "data": {
      "text/plain": [
       "fwd    120\n",
       "rwd     76\n",
       "4wd      9\n",
       "Name: d_wheel, dtype: int64"
      ]
     },
     "execution_count": 1110,
     "metadata": {},
     "output_type": "execute_result"
    }
   ],
   "source": [
    "data.d_wheel.value_counts()"
   ]
  },
  {
   "cell_type": "code",
   "execution_count": 1111,
   "id": "3012098e",
   "metadata": {},
   "outputs": [
    {
     "data": {
      "text/plain": [
       "0"
      ]
     },
     "execution_count": 1111,
     "metadata": {},
     "output_type": "execute_result"
    }
   ],
   "source": [
    "data.d_wheel.isnull().sum()"
   ]
  },
  {
   "cell_type": "code",
   "execution_count": 1112,
   "id": "0f6f31f2",
   "metadata": {},
   "outputs": [
    {
     "data": {
      "text/plain": [
       "array(['rwd', 'fwd', '4wd'], dtype=object)"
      ]
     },
     "execution_count": 1112,
     "metadata": {},
     "output_type": "execute_result"
    }
   ],
   "source": [
    "data.d_wheel.unique()"
   ]
  },
  {
   "cell_type": "code",
   "execution_count": 1113,
   "id": "526e7c61",
   "metadata": {},
   "outputs": [
    {
     "name": "stderr",
     "output_type": "stream",
     "text": [
      "C:\\ProgramData\\Anaconda3\\lib\\site-packages\\seaborn\\_decorators.py:36: FutureWarning: Pass the following variable as a keyword arg: x. From version 0.12, the only valid positional argument will be `data`, and passing other arguments without an explicit keyword will result in an error or misinterpretation.\n",
      "  warnings.warn(\n"
     ]
    },
    {
     "data": {
      "text/plain": [
       "<AxesSubplot:xlabel='d_wheel', ylabel='count'>"
      ]
     },
     "execution_count": 1113,
     "metadata": {},
     "output_type": "execute_result"
    },
    {
     "data": {
      "image/png": "[encoded data removed]",
      "text/plain": [
       "<Figure size 432x288 with 1 Axes>"
      ]
     },
     "metadata": {
      "needs_background": "light"
     },
     "output_type": "display_data"
    }
   ],
   "source": [
    "sns.countplot(data.d_wheel)"
   ]
  },
  {
   "cell_type": "code",
   "execution_count": 1114,
   "id": "9dd64758",
   "metadata": {},
   "outputs": [],
   "source": [
    "data.d_wheel.replace(['4wd','rwd'],['not fwd','not fwd'],inplace=True)"
   ]
  },
  {
   "cell_type": "code",
   "execution_count": 1115,
   "id": "d48c0aa5",
   "metadata": {},
   "outputs": [
    {
     "name": "stderr",
     "output_type": "stream",
     "text": [
      "C:\\ProgramData\\Anaconda3\\lib\\site-packages\\seaborn\\_decorators.py:36: FutureWarning: Pass the following variable as a keyword arg: x. From version 0.12, the only valid positional argument will be `data`, and passing other arguments without an explicit keyword will result in an error or misinterpretation.\n",
      "  warnings.warn(\n"
     ]
    },
    {
     "data": {
      "text/plain": [
       "<AxesSubplot:xlabel='d_wheel', ylabel='count'>"
      ]
     },
     "execution_count": 1115,
     "metadata": {},
     "output_type": "execute_result"
    },
    {
     "data": {
      "image/png": "[encoded data removed]",
      "text/plain": [
       "<Figure size 432x288 with 1 Axes>"
      ]
     },
     "metadata": {
      "needs_background": "light"
     },
     "output_type": "display_data"
    }
   ],
   "source": [
    "sns.countplot(data.d_wheel)"
   ]
  },
  {
   "cell_type": "markdown",
   "id": "24d1a21d",
   "metadata": {},
   "source": [
    "<H6>\n",
    "COLUMN 9:ENGINE LOCATION\n",
    "    <H6>"
   ]
  },
  {
   "cell_type": "code",
   "execution_count": 1116,
   "id": "98a036fe",
   "metadata": {},
   "outputs": [
    {
     "data": {
      "text/plain": [
       "count       205\n",
       "unique        2\n",
       "top       front\n",
       "freq        202\n",
       "Name: engine_loc, dtype: object"
      ]
     },
     "execution_count": 1116,
     "metadata": {},
     "output_type": "execute_result"
    }
   ],
   "source": [
    "data.engine_loc.describe()"
   ]
  },
  {
   "cell_type": "code",
   "execution_count": 1117,
   "id": "b9b69576",
   "metadata": {},
   "outputs": [
    {
     "data": {
      "text/plain": [
       "front    202\n",
       "rear       3\n",
       "Name: engine_loc, dtype: int64"
      ]
     },
     "execution_count": 1117,
     "metadata": {},
     "output_type": "execute_result"
    }
   ],
   "source": [
    "data.engine_loc.value_counts()"
   ]
  },
  {
   "cell_type": "code",
   "execution_count": 1118,
   "id": "f2ba3345",
   "metadata": {},
   "outputs": [
    {
     "data": {
      "text/plain": [
       "0"
      ]
     },
     "execution_count": 1118,
     "metadata": {},
     "output_type": "execute_result"
    }
   ],
   "source": [
    "data.engine_loc.isnull().sum()"
   ]
  },
  {
   "cell_type": "code",
   "execution_count": 1119,
   "id": "520707ae",
   "metadata": {},
   "outputs": [
    {
     "data": {
      "text/plain": [
       "array(['front', 'rear'], dtype=object)"
      ]
     },
     "execution_count": 1119,
     "metadata": {},
     "output_type": "execute_result"
    }
   ],
   "source": [
    "data.engine_loc.unique()"
   ]
  },
  {
   "cell_type": "code",
   "execution_count": 1120,
   "id": "8b483549",
   "metadata": {},
   "outputs": [
    {
     "name": "stderr",
     "output_type": "stream",
     "text": [
      "C:\\ProgramData\\Anaconda3\\lib\\site-packages\\seaborn\\_decorators.py:36: FutureWarning: Pass the following variable as a keyword arg: x. From version 0.12, the only valid positional argument will be `data`, and passing other arguments without an explicit keyword will result in an error or misinterpretation.\n",
      "  warnings.warn(\n"
     ]
    },
    {
     "data": {
      "text/plain": [
       "<AxesSubplot:xlabel='engine_loc', ylabel='count'>"
      ]
     },
     "execution_count": 1120,
     "metadata": {},
     "output_type": "execute_result"
    },
    {
     "data": {
      "image/png": "[encoded data removed]",
      "text/plain": [
       "<Figure size 432x288 with 1 Axes>"
      ]
     },
     "metadata": {
      "needs_background": "light"
     },
     "output_type": "display_data"
    }
   ],
   "source": [
    "sns.countplot(data.engine_loc)"
   ]
  },
  {
   "cell_type": "markdown",
   "id": "4caf15d2",
   "metadata": {},
   "source": [
    "<H6>\n",
    "COLUMN 10 :WHEEL BASE\n",
    "<H6>"
   ]
  },
  {
   "cell_type": "code",
   "execution_count": 1121,
   "id": "5dbc402e",
   "metadata": {},
   "outputs": [
    {
     "data": {
      "text/plain": [
       "count    205.000000\n",
       "mean      98.756585\n",
       "std        6.021776\n",
       "min       86.600000\n",
       "25%       94.500000\n",
       "50%       97.000000\n",
       "75%      102.400000\n",
       "max      120.900000\n",
       "Name: wheel_base, dtype: float64"
      ]
     },
     "execution_count": 1121,
     "metadata": {},
     "output_type": "execute_result"
    }
   ],
   "source": [
    "data.wheel_base.describe()"
   ]
  },
  {
   "cell_type": "code",
   "execution_count": 1122,
   "id": "10304d79",
   "metadata": {},
   "outputs": [
    {
     "data": {
      "text/plain": [
       "0"
      ]
     },
     "execution_count": 1122,
     "metadata": {},
     "output_type": "execute_result"
    }
   ],
   "source": [
    "data.wheel_base.isnull().sum()"
   ]
  },
  {
   "cell_type": "code",
   "execution_count": 1123,
   "id": "1fdee58f",
   "metadata": {},
   "outputs": [
    {
     "data": {
      "text/plain": [
       "array([ 88.6,  94.5,  99.8,  99.4, 105.8,  99.5, 101.2, 103.5, 110. ,\n",
       "        88.4,  93.7, 103.3,  95.9,  86.6,  96.5,  94.3,  96. , 113. ,\n",
       "       102. ,  93.1,  95.3,  98.8, 104.9, 106.7, 115.6,  96.6, 120.9,\n",
       "       112. , 102.7,  93. ,  96.3,  95.1,  97.2, 100.4,  91.3,  99.2,\n",
       "       107.9, 114.2, 108. ,  89.5,  98.4,  96.1,  99.1,  93.3,  97. ,\n",
       "        96.9,  95.7, 102.4, 102.9, 104.5,  97.3, 104.3, 109.1])"
      ]
     },
     "execution_count": 1123,
     "metadata": {},
     "output_type": "execute_result"
    }
   ],
   "source": [
    "data.wheel_base.unique()"
   ]
  },
  {
   "cell_type": "code",
   "execution_count": 1124,
   "id": "56252143",
   "metadata": {},
   "outputs": [
    {
     "data": {
      "text/plain": [
       "{'whiskers': [<matplotlib.lines.Line2D at 0x1ead340f580>,\n",
       "  <matplotlib.lines.Line2D at 0x1ead340f910>],\n",
       " 'caps': [<matplotlib.lines.Line2D at 0x1ead340fca0>,\n",
       "  <matplotlib.lines.Line2D at 0x1ead341a070>],\n",
       " 'boxes': [<matplotlib.lines.Line2D at 0x1ead340f1f0>],\n",
       " 'medians': [<matplotlib.lines.Line2D at 0x1ead341a400>],\n",
       " 'fliers': [<matplotlib.lines.Line2D at 0x1ead341a790>],\n",
       " 'means': []}"
      ]
     },
     "execution_count": 1124,
     "metadata": {},
     "output_type": "execute_result"
    },
    {
     "data": {
      "image/png": "[encoded data removed]",
      "text/plain": [
       "<Figure size 432x288 with 1 Axes>"
      ]
     },
     "metadata": {
      "needs_background": "light"
     },
     "output_type": "display_data"
    }
   ],
   "source": [
    "plt.boxplot(data.wheel_base)"
   ]
  },
  {
   "cell_type": "code",
   "execution_count": 1125,
   "id": "5ba0402c",
   "metadata": {},
   "outputs": [
    {
     "data": {
      "text/plain": [
       "ShapiroResult(statistic=0.9115860462188721, pvalue=1.0368441660801864e-09)"
      ]
     },
     "execution_count": 1125,
     "metadata": {},
     "output_type": "execute_result"
    }
   ],
   "source": [
    "stats.shapiro(data.wheel_base)"
   ]
  },
  {
   "cell_type": "markdown",
   "id": "70f41966",
   "metadata": {},
   "source": [
    "<H6>\n",
    "data is not normally  distributed\n",
    "<H6>"
   ]
  },
  {
   "cell_type": "code",
   "execution_count": 1126,
   "id": "7dc18b86",
   "metadata": {},
   "outputs": [
    {
     "data": {
      "text/plain": [
       "(array([ 8.,  9., 83., 42., 24., 14., 15.,  3.,  6.,  1.]),\n",
       " array([ 86.6 ,  90.03,  93.46,  96.89, 100.32, 103.75, 107.18, 110.61,\n",
       "        114.04, 117.47, 120.9 ]),\n",
       " <BarContainer object of 10 artists>)"
      ]
     },
     "execution_count": 1126,
     "metadata": {},
     "output_type": "execute_result"
    },
    {
     "data": {
      "image/png": "[encoded data removed]",
      "text/plain": [
       "<Figure size 432x288 with 1 Axes>"
      ]
     },
     "metadata": {
      "needs_background": "light"
     },
     "output_type": "display_data"
    }
   ],
   "source": [
    "plt.hist(data.wheel_base)"
   ]
  },
  {
   "cell_type": "markdown",
   "id": "c7269213",
   "metadata": {},
   "source": [
    "<H6>\n",
    "COLUMN 11 : LENGTH\n",
    "    <H6>"
   ]
  },
  {
   "cell_type": "code",
   "execution_count": 1127,
   "id": "971c99e9",
   "metadata": {},
   "outputs": [
    {
     "data": {
      "text/plain": [
       "count    205.000000\n",
       "mean     174.049268\n",
       "std       12.337289\n",
       "min      141.100000\n",
       "25%      166.300000\n",
       "50%      173.200000\n",
       "75%      183.100000\n",
       "max      208.100000\n",
       "Name: length, dtype: float64"
      ]
     },
     "execution_count": 1127,
     "metadata": {},
     "output_type": "execute_result"
    }
   ],
   "source": [
    "data.length.describe()"
   ]
  },
  {
   "cell_type": "code",
   "execution_count": 1128,
   "id": "26e824b3",
   "metadata": {},
   "outputs": [
    {
     "data": {
      "text/plain": [
       "0"
      ]
     },
     "execution_count": 1128,
     "metadata": {},
     "output_type": "execute_result"
    }
   ],
   "source": [
    "data.length.isnull().sum()"
   ]
  },
  {
   "cell_type": "code",
   "execution_count": 1129,
   "id": "d372906b",
   "metadata": {},
   "outputs": [
    {
     "data": {
      "text/plain": [
       "array([168.8, 171.2, 176.6, 177.3, 192.7, 178.2, 176.8, 189. , 193.8,\n",
       "       197. , 141.1, 155.9, 158.8, 157.3, 174.6, 173.2, 144.6, 150. ,\n",
       "       163.4, 157.1, 167.5, 175.4, 169.1, 170.7, 172.6, 199.6, 191.7,\n",
       "       159.1, 166.8, 169. , 177.8, 175. , 190.9, 187.5, 202.6, 180.3,\n",
       "       208.1, 199.2, 178.4, 173. , 172.4, 165.3, 170.2, 165.6, 162.4,\n",
       "       173.4, 181.7, 184.6, 178.5, 186.7, 198.9, 167.3, 168.9, 175.7,\n",
       "       181.5, 186.6, 156.9, 157.9, 172. , 173.5, 173.6, 158.7, 169.7,\n",
       "       166.3, 168.7, 176.2, 175.6, 183.5, 187.8, 171.7, 159.3, 165.7,\n",
       "       180.2, 183.1, 188.8])"
      ]
     },
     "execution_count": 1129,
     "metadata": {},
     "output_type": "execute_result"
    }
   ],
   "source": [
    "data.length.unique()"
   ]
  },
  {
   "cell_type": "code",
   "execution_count": 1130,
   "id": "6c6b2d8a",
   "metadata": {},
   "outputs": [
    {
     "data": {
      "text/plain": [
       "{'whiskers': [<matplotlib.lines.Line2D at 0x1ead34fc9d0>,\n",
       "  <matplotlib.lines.Line2D at 0x1ead34fcd60>],\n",
       " 'caps': [<matplotlib.lines.Line2D at 0x1ead350b130>,\n",
       "  <matplotlib.lines.Line2D at 0x1ead350b4c0>],\n",
       " 'boxes': [<matplotlib.lines.Line2D at 0x1ead34fc640>],\n",
       " 'medians': [<matplotlib.lines.Line2D at 0x1ead350b850>],\n",
       " 'fliers': [<matplotlib.lines.Line2D at 0x1ead350bbe0>],\n",
       " 'means': []}"
      ]
     },
     "execution_count": 1130,
     "metadata": {},
     "output_type": "execute_result"
    },
    {
     "data": {
      "image/png": "[encoded data removed]",
      "text/plain": [
       "<Figure size 432x288 with 1 Axes>"
      ]
     },
     "metadata": {
      "needs_background": "light"
     },
     "output_type": "display_data"
    }
   ],
   "source": [
    "plt.boxplot(data.length)"
   ]
  },
  {
   "cell_type": "code",
   "execution_count": 1131,
   "id": "9975380b",
   "metadata": {},
   "outputs": [
    {
     "data": {
      "text/plain": [
       "(array([ 3.,  3., 29., 23., 54., 39., 23., 20.,  8.,  3.]),\n",
       " array([141.1, 147.8, 154.5, 161.2, 167.9, 174.6, 181.3, 188. , 194.7,\n",
       "        201.4, 208.1]),\n",
       " <BarContainer object of 10 artists>)"
      ]
     },
     "execution_count": 1131,
     "metadata": {},
     "output_type": "execute_result"
    },
    {
     "data": {
      "image/png": "[encoded data removed]",
      "text/plain": [
       "<Figure size 432x288 with 1 Axes>"
      ]
     },
     "metadata": {
      "needs_background": "light"
     },
     "output_type": "display_data"
    }
   ],
   "source": [
    "plt.hist(data.length)"
   ]
  },
  {
   "cell_type": "code",
   "execution_count": 1132,
   "id": "296cefe1",
   "metadata": {},
   "outputs": [
    {
     "data": {
      "text/plain": [
       "ShapiroResult(statistic=0.9820953607559204, pvalue=0.01036272943019867)"
      ]
     },
     "execution_count": 1132,
     "metadata": {},
     "output_type": "execute_result"
    }
   ],
   "source": [
    "stats.shapiro(data.length)"
   ]
  },
  {
   "cell_type": "markdown",
   "id": "3ecaafc8",
   "metadata": {},
   "source": [
    "<H6>\n",
    "DATA IS NOT NORMALLY DISTRIBUTED\n",
    "<H6>"
   ]
  },
  {
   "cell_type": "markdown",
   "id": "e1129cfa",
   "metadata": {},
   "source": [
    "<H6>\n",
    "COLUMN 12: WIDTH\n",
    "    <H6>"
   ]
  },
  {
   "cell_type": "code",
   "execution_count": 1133,
   "id": "7616ef7b",
   "metadata": {},
   "outputs": [
    {
     "data": {
      "text/plain": [
       "count    205.000000\n",
       "mean      65.907805\n",
       "std        2.145204\n",
       "min       60.300000\n",
       "25%       64.100000\n",
       "50%       65.500000\n",
       "75%       66.900000\n",
       "max       72.300000\n",
       "Name: width, dtype: float64"
      ]
     },
     "execution_count": 1133,
     "metadata": {},
     "output_type": "execute_result"
    }
   ],
   "source": [
    "data.width.describe()"
   ]
  },
  {
   "cell_type": "code",
   "execution_count": 1134,
   "id": "dceb408b",
   "metadata": {},
   "outputs": [
    {
     "data": {
      "text/plain": [
       "0"
      ]
     },
     "execution_count": 1134,
     "metadata": {},
     "output_type": "execute_result"
    }
   ],
   "source": [
    "data.width.isnull().sum()"
   ]
  },
  {
   "cell_type": "code",
   "execution_count": 1135,
   "id": "7fa358b2",
   "metadata": {},
   "outputs": [
    {
     "data": {
      "text/plain": [
       "array([64.1, 65.5, 66.2, 66.4, 66.3, 71.4, 67.9, 64.8, 66.9, 70.9, 60.3,\n",
       "       63.6, 63.8, 64.6, 63.9, 64. , 65.2, 62.5, 66. , 61.8, 69.6, 70.6,\n",
       "       64.2, 65.7, 66.5, 66.1, 70.3, 71.7, 70.5, 72. , 68. , 64.4, 65.4,\n",
       "       68.4, 68.3, 65. , 72.3, 66.6, 63.4, 65.6, 67.7, 67.2, 68.9, 68.8])"
      ]
     },
     "execution_count": 1135,
     "metadata": {},
     "output_type": "execute_result"
    }
   ],
   "source": [
    "data.width.unique()"
   ]
  },
  {
   "cell_type": "code",
   "execution_count": 1136,
   "id": "9ded26e1",
   "metadata": {},
   "outputs": [
    {
     "data": {
      "text/plain": [
       "{'whiskers': [<matplotlib.lines.Line2D at 0x1ead35e2c70>,\n",
       "  <matplotlib.lines.Line2D at 0x1ead35f1040>],\n",
       " 'caps': [<matplotlib.lines.Line2D at 0x1ead35f13d0>,\n",
       "  <matplotlib.lines.Line2D at 0x1ead35f1760>],\n",
       " 'boxes': [<matplotlib.lines.Line2D at 0x1ead35e28e0>],\n",
       " 'medians': [<matplotlib.lines.Line2D at 0x1ead35f1af0>],\n",
       " 'fliers': [<matplotlib.lines.Line2D at 0x1ead35f1e80>],\n",
       " 'means': []}"
      ]
     },
     "execution_count": 1136,
     "metadata": {},
     "output_type": "execute_result"
    },
    {
     "data": {
      "image/png": "[encoded data removed]",
      "text/plain": [
       "<Figure size 432x288 with 1 Axes>"
      ]
     },
     "metadata": {
      "needs_background": "light"
     },
     "output_type": "display_data"
    }
   ],
   "source": [
    "plt.boxplot(data.width)"
   ]
  },
  {
   "cell_type": "code",
   "execution_count": 1137,
   "id": "b9c429e8",
   "metadata": {},
   "outputs": [
    {
     "data": {
      "text/plain": [
       "(array([ 1.,  2., 36., 39., 44., 42., 20.,  7.,  6.,  8.]),\n",
       " array([60.3, 61.5, 62.7, 63.9, 65.1, 66.3, 67.5, 68.7, 69.9, 71.1, 72.3]),\n",
       " <BarContainer object of 10 artists>)"
      ]
     },
     "execution_count": 1137,
     "metadata": {},
     "output_type": "execute_result"
    },
    {
     "data": {
      "image/png": "[encoded data removed]",
      "text/plain": [
       "<Figure size 432x288 with 1 Axes>"
      ]
     },
     "metadata": {
      "needs_background": "light"
     },
     "output_type": "display_data"
    }
   ],
   "source": [
    "plt.hist(data.width)"
   ]
  },
  {
   "cell_type": "code",
   "execution_count": 1138,
   "id": "604e6b39",
   "metadata": {},
   "outputs": [
    {
     "data": {
      "text/plain": [
       "ShapiroResult(statistic=0.9210780262947083, pvalue=5.012857240416224e-09)"
      ]
     },
     "execution_count": 1138,
     "metadata": {},
     "output_type": "execute_result"
    }
   ],
   "source": [
    "stats.shapiro(data.width)"
   ]
  },
  {
   "cell_type": "markdown",
   "id": "3b09cc52",
   "metadata": {},
   "source": [
    "<H6>\n",
    "The Data is not normally distributed\n",
    "<H6>"
   ]
  },
  {
   "cell_type": "markdown",
   "id": "e13d0399",
   "metadata": {},
   "source": [
    "<H6>\n",
    "COLUMN 13: HEIGHT\n",
    "    <H6>"
   ]
  },
  {
   "cell_type": "code",
   "execution_count": 1139,
   "id": "46f79c07",
   "metadata": {},
   "outputs": [
    {
     "data": {
      "text/plain": [
       "count    205.000000\n",
       "mean      53.724878\n",
       "std        2.443522\n",
       "min       47.800000\n",
       "25%       52.000000\n",
       "50%       54.100000\n",
       "75%       55.500000\n",
       "max       59.800000\n",
       "Name: height, dtype: float64"
      ]
     },
     "execution_count": 1139,
     "metadata": {},
     "output_type": "execute_result"
    }
   ],
   "source": [
    "data.height.describe()"
   ]
  },
  {
   "cell_type": "code",
   "execution_count": 1140,
   "id": "02c41931",
   "metadata": {},
   "outputs": [
    {
     "data": {
      "text/plain": [
       "0"
      ]
     },
     "execution_count": 1140,
     "metadata": {},
     "output_type": "execute_result"
    }
   ],
   "source": [
    "data.height.isnull().sum()"
   ]
  },
  {
   "cell_type": "code",
   "execution_count": 1141,
   "id": "d01eb10d",
   "metadata": {},
   "outputs": [
    {
     "data": {
      "text/plain": [
       "array([48.8, 52.4, 54.3, 53.1, 55.7, 55.9, 52. , 53.7, 56.3, 53.2, 50.8,\n",
       "       50.6, 59.8, 50.2, 52.6, 54.5, 58.3, 53.3, 54.1, 51. , 53.5, 51.4,\n",
       "       52.8, 47.8, 49.6, 55.5, 54.4, 56.5, 58.7, 54.9, 56.7, 55.4, 54.8,\n",
       "       49.4, 51.6, 54.7, 55.1, 56.1, 49.7, 56. , 50.5, 55.2, 52.5, 53. ,\n",
       "       59.1, 53.9, 55.6, 56.2, 57.5])"
      ]
     },
     "execution_count": 1141,
     "metadata": {},
     "output_type": "execute_result"
    }
   ],
   "source": [
    "data.height.unique()"
   ]
  },
  {
   "cell_type": "code",
   "execution_count": 1142,
   "id": "1a58cb05",
   "metadata": {},
   "outputs": [
    {
     "data": {
      "text/plain": [
       "{'whiskers': [<matplotlib.lines.Line2D at 0x1ead36c2d00>,\n",
       "  <matplotlib.lines.Line2D at 0x1ead36d3100>],\n",
       " 'caps': [<matplotlib.lines.Line2D at 0x1ead36d3490>,\n",
       "  <matplotlib.lines.Line2D at 0x1ead36d3820>],\n",
       " 'boxes': [<matplotlib.lines.Line2D at 0x1ead36c2970>],\n",
       " 'medians': [<matplotlib.lines.Line2D at 0x1ead36d3bb0>],\n",
       " 'fliers': [<matplotlib.lines.Line2D at 0x1ead36d3f40>],\n",
       " 'means': []}"
      ]
     },
     "execution_count": 1142,
     "metadata": {},
     "output_type": "execute_result"
    },
    {
     "data": {
      "image/png": "[encoded data removed]",
      "text/plain": [
       "<Figure size 432x288 with 1 Axes>"
      ]
     },
     "metadata": {
      "needs_background": "light"
     },
     "output_type": "display_data"
    }
   ],
   "source": [
    "plt.boxplot(data.height)"
   ]
  },
  {
   "cell_type": "code",
   "execution_count": 1143,
   "id": "386b83b7",
   "metadata": {},
   "outputs": [
    {
     "data": {
      "text/plain": [
       "(array([ 3.,  9., 28., 25., 33., 41., 38., 15.,  4.,  9.]),\n",
       " array([47.8, 49. , 50.2, 51.4, 52.6, 53.8, 55. , 56.2, 57.4, 58.6, 59.8]),\n",
       " <BarContainer object of 10 artists>)"
      ]
     },
     "execution_count": 1143,
     "metadata": {},
     "output_type": "execute_result"
    },
    {
     "data": {
      "image/png": "[encoded data removed]",
      "text/plain": [
       "<Figure size 432x288 with 1 Axes>"
      ]
     },
     "metadata": {
      "needs_background": "light"
     },
     "output_type": "display_data"
    }
   ],
   "source": [
    "plt.hist(data.height)"
   ]
  },
  {
   "cell_type": "code",
   "execution_count": 1144,
   "id": "a9dc0f9e",
   "metadata": {},
   "outputs": [
    {
     "data": {
      "text/plain": [
       "ShapiroResult(statistic=0.9842321276664734, pvalue=0.021682262420654297)"
      ]
     },
     "execution_count": 1144,
     "metadata": {},
     "output_type": "execute_result"
    }
   ],
   "source": [
    "stats.shapiro(data.height)"
   ]
  },
  {
   "cell_type": "markdown",
   "id": "449d57f6",
   "metadata": {},
   "source": [
    "<H6>\n",
    "P VALUE < ALPHA SO NOT NORMAL DISTRIBUTION\n",
    "<H6>"
   ]
  },
  {
   "cell_type": "markdown",
   "id": "f57ff8b8",
   "metadata": {},
   "source": [
    "<H6>\n",
    "COLUMN 14:CURB-WEIGHT\n",
    "    <H6>"
   ]
  },
  {
   "cell_type": "code",
   "execution_count": 1145,
   "id": "f00c3ab0",
   "metadata": {},
   "outputs": [
    {
     "data": {
      "text/plain": [
       "count     205.000000\n",
       "mean     2555.565854\n",
       "std       520.680204\n",
       "min      1488.000000\n",
       "25%      2145.000000\n",
       "50%      2414.000000\n",
       "75%      2935.000000\n",
       "max      4066.000000\n",
       "Name: curb_weight, dtype: float64"
      ]
     },
     "execution_count": 1145,
     "metadata": {},
     "output_type": "execute_result"
    }
   ],
   "source": [
    "data.curb_weight.describe()"
   ]
  },
  {
   "cell_type": "code",
   "execution_count": 1146,
   "id": "c167291a",
   "metadata": {},
   "outputs": [
    {
     "data": {
      "text/plain": [
       "0"
      ]
     },
     "execution_count": 1146,
     "metadata": {},
     "output_type": "execute_result"
    }
   ],
   "source": [
    "data.curb_weight.isnull().sum()"
   ]
  },
  {
   "cell_type": "code",
   "execution_count": 1147,
   "id": "634705e4",
   "metadata": {},
   "outputs": [
    {
     "data": {
      "text/plain": [
       "{'whiskers': [<matplotlib.lines.Line2D at 0x1ead37b92b0>,\n",
       "  <matplotlib.lines.Line2D at 0x1ead37b9640>],\n",
       " 'caps': [<matplotlib.lines.Line2D at 0x1ead37b99d0>,\n",
       "  <matplotlib.lines.Line2D at 0x1ead37b9d60>],\n",
       " 'boxes': [<matplotlib.lines.Line2D at 0x1ead37a8ee0>],\n",
       " 'medians': [<matplotlib.lines.Line2D at 0x1ead37c5130>],\n",
       " 'fliers': [<matplotlib.lines.Line2D at 0x1ead37c54c0>],\n",
       " 'means': []}"
      ]
     },
     "execution_count": 1147,
     "metadata": {},
     "output_type": "execute_result"
    },
    {
     "data": {
      "image/png": "[encoded data removed]",
      "text/plain": [
       "<Figure size 432x288 with 1 Axes>"
      ]
     },
     "metadata": {
      "needs_background": "light"
     },
     "output_type": "display_data"
    }
   ],
   "source": [
    "plt.boxplot(data.curb_weight)"
   ]
  },
  {
   "cell_type": "code",
   "execution_count": 1148,
   "id": "ed6574dd",
   "metadata": {},
   "outputs": [
    {
     "data": {
      "text/plain": [
       "(array([ 2., 29., 33., 50., 25., 23., 26.,  8.,  5.,  4.]),\n",
       " array([1488. , 1745.8, 2003.6, 2261.4, 2519.2, 2777. , 3034.8, 3292.6,\n",
       "        3550.4, 3808.2, 4066. ]),\n",
       " <BarContainer object of 10 artists>)"
      ]
     },
     "execution_count": 1148,
     "metadata": {},
     "output_type": "execute_result"
    },
    {
     "data": {
      "image/png": "[encoded data removed]",
      "text/plain": [
       "<Figure size 432x288 with 1 Axes>"
      ]
     },
     "metadata": {
      "needs_background": "light"
     },
     "output_type": "display_data"
    }
   ],
   "source": [
    "plt.hist(data.curb_weight)"
   ]
  },
  {
   "cell_type": "code",
   "execution_count": 1149,
   "id": "1bb0f7b3",
   "metadata": {},
   "outputs": [
    {
     "data": {
      "text/plain": [
       "ShapiroResult(statistic=0.9530424475669861, pvalue=2.8916113024024526e-06)"
      ]
     },
     "execution_count": 1149,
     "metadata": {},
     "output_type": "execute_result"
    }
   ],
   "source": [
    "stats.shapiro(data.curb_weight)"
   ]
  },
  {
   "cell_type": "markdown",
   "id": "9a0a1f40",
   "metadata": {},
   "source": [
    "<H6>\n",
    "p value<0.05 so, not normally distributed\n",
    "<H6>"
   ]
  },
  {
   "cell_type": "markdown",
   "id": "32db8815",
   "metadata": {},
   "source": [
    "<H6>\n",
    "COLUMN 15: ENGINE TYPE\n",
    "    <H6>"
   ]
  },
  {
   "cell_type": "code",
   "execution_count": 1150,
   "id": "2d9fce6f",
   "metadata": {},
   "outputs": [
    {
     "data": {
      "text/plain": [
       "count     205\n",
       "unique      7\n",
       "top       ohc\n",
       "freq      148\n",
       "Name: engine_type, dtype: object"
      ]
     },
     "execution_count": 1150,
     "metadata": {},
     "output_type": "execute_result"
    }
   ],
   "source": [
    "data.engine_type.describe()"
   ]
  },
  {
   "cell_type": "code",
   "execution_count": 1151,
   "id": "8d1db207",
   "metadata": {},
   "outputs": [
    {
     "data": {
      "text/plain": [
       "ohc      148\n",
       "ohcf      15\n",
       "ohcv      13\n",
       "dohc      12\n",
       "l         12\n",
       "rotor      4\n",
       "dohcv      1\n",
       "Name: engine_type, dtype: int64"
      ]
     },
     "execution_count": 1151,
     "metadata": {},
     "output_type": "execute_result"
    }
   ],
   "source": [
    "data.engine_type.value_counts()"
   ]
  },
  {
   "cell_type": "code",
   "execution_count": 1152,
   "id": "e59de7d3",
   "metadata": {},
   "outputs": [
    {
     "data": {
      "text/plain": [
       "0"
      ]
     },
     "execution_count": 1152,
     "metadata": {},
     "output_type": "execute_result"
    }
   ],
   "source": [
    "data.engine_type.isnull().sum()"
   ]
  },
  {
   "cell_type": "code",
   "execution_count": 1153,
   "id": "8226fe56",
   "metadata": {},
   "outputs": [
    {
     "name": "stderr",
     "output_type": "stream",
     "text": [
      "C:\\ProgramData\\Anaconda3\\lib\\site-packages\\seaborn\\_decorators.py:36: FutureWarning: Pass the following variable as a keyword arg: x. From version 0.12, the only valid positional argument will be `data`, and passing other arguments without an explicit keyword will result in an error or misinterpretation.\n",
      "  warnings.warn(\n"
     ]
    },
    {
     "data": {
      "text/plain": [
       "<AxesSubplot:xlabel='engine_type', ylabel='count'>"
      ]
     },
     "execution_count": 1153,
     "metadata": {},
     "output_type": "execute_result"
    },
    {
     "data": {
      "image/png": "[encoded data removed]",
      "text/plain": [
       "<Figure size 432x288 with 1 Axes>"
      ]
     },
     "metadata": {
      "needs_background": "light"
     },
     "output_type": "display_data"
    }
   ],
   "source": [
    "sns.countplot(data.engine_type)"
   ]
  },
  {
   "cell_type": "code",
   "execution_count": 1154,
   "id": "9639d952",
   "metadata": {},
   "outputs": [],
   "source": [
    "data.engine_type.replace(['dohc','ohcv','l','rotor','ohcf','dohcv'],['non ohc','non ohc','non ohc','non ohc','non ohc','non ohc'],inplace=True)"
   ]
  },
  {
   "cell_type": "code",
   "execution_count": 1155,
   "id": "27557510",
   "metadata": {},
   "outputs": [
    {
     "data": {
      "text/plain": [
       "ohc        148\n",
       "non ohc     57\n",
       "Name: engine_type, dtype: int64"
      ]
     },
     "execution_count": 1155,
     "metadata": {},
     "output_type": "execute_result"
    }
   ],
   "source": [
    "data.engine_type.value_counts()"
   ]
  },
  {
   "cell_type": "code",
   "execution_count": 1156,
   "id": "69f94383",
   "metadata": {},
   "outputs": [
    {
     "name": "stderr",
     "output_type": "stream",
     "text": [
      "C:\\ProgramData\\Anaconda3\\lib\\site-packages\\seaborn\\_decorators.py:36: FutureWarning: Pass the following variable as a keyword arg: x. From version 0.12, the only valid positional argument will be `data`, and passing other arguments without an explicit keyword will result in an error or misinterpretation.\n",
      "  warnings.warn(\n"
     ]
    },
    {
     "data": {
      "text/plain": [
       "<AxesSubplot:xlabel='engine_type', ylabel='count'>"
      ]
     },
     "execution_count": 1156,
     "metadata": {},
     "output_type": "execute_result"
    },
    {
     "data": {
      "image/png": "[encoded data removed]",
      "text/plain": [
       "<Figure size 432x288 with 1 Axes>"
      ]
     },
     "metadata": {
      "needs_background": "light"
     },
     "output_type": "display_data"
    }
   ],
   "source": [
    "sns.countplot(data.engine_type)"
   ]
  },
  {
   "cell_type": "markdown",
   "id": "84886d9b",
   "metadata": {},
   "source": [
    "<H6>\n",
    "    COLUMN 16:NUMBER OF CYLINDERS\n",
    "    <H6>"
   ]
  },
  {
   "cell_type": "code",
   "execution_count": 1157,
   "id": "fd1407f3",
   "metadata": {},
   "outputs": [
    {
     "data": {
      "text/plain": [
       "count      205\n",
       "unique       7\n",
       "top       four\n",
       "freq       159\n",
       "Name: no_cyl, dtype: object"
      ]
     },
     "execution_count": 1157,
     "metadata": {},
     "output_type": "execute_result"
    }
   ],
   "source": [
    "data.no_cyl.describe()"
   ]
  },
  {
   "cell_type": "code",
   "execution_count": 1158,
   "id": "a3c2405a",
   "metadata": {},
   "outputs": [
    {
     "data": {
      "text/plain": [
       "four      159\n",
       "six        24\n",
       "five       11\n",
       "eight       5\n",
       "two         4\n",
       "three       1\n",
       "twelve      1\n",
       "Name: no_cyl, dtype: int64"
      ]
     },
     "execution_count": 1158,
     "metadata": {},
     "output_type": "execute_result"
    }
   ],
   "source": [
    "data.no_cyl.value_counts()"
   ]
  },
  {
   "cell_type": "code",
   "execution_count": 1159,
   "id": "ea583352",
   "metadata": {},
   "outputs": [
    {
     "data": {
      "text/plain": [
       "0"
      ]
     },
     "execution_count": 1159,
     "metadata": {},
     "output_type": "execute_result"
    }
   ],
   "source": [
    "data.no_cyl.isnull().sum()"
   ]
  },
  {
   "cell_type": "code",
   "execution_count": 1160,
   "id": "ba894cd6",
   "metadata": {},
   "outputs": [
    {
     "name": "stderr",
     "output_type": "stream",
     "text": [
      "C:\\ProgramData\\Anaconda3\\lib\\site-packages\\seaborn\\_decorators.py:36: FutureWarning: Pass the following variable as a keyword arg: x. From version 0.12, the only valid positional argument will be `data`, and passing other arguments without an explicit keyword will result in an error or misinterpretation.\n",
      "  warnings.warn(\n"
     ]
    },
    {
     "data": {
      "text/plain": [
       "<AxesSubplot:xlabel='no_cyl', ylabel='count'>"
      ]
     },
     "execution_count": 1160,
     "metadata": {},
     "output_type": "execute_result"
    },
    {
     "data": {
      "image/png": "[encoded data removed]",
      "text/plain": [
       "<Figure size 432x288 with 1 Axes>"
      ]
     },
     "metadata": {
      "needs_background": "light"
     },
     "output_type": "display_data"
    }
   ],
   "source": [
    "sns.countplot(data.no_cyl)"
   ]
  },
  {
   "cell_type": "code",
   "execution_count": 1161,
   "id": "71e022cc",
   "metadata": {},
   "outputs": [],
   "source": [
    "data.no_cyl.replace(['six','five','three','twelve','two','eight'],['other than four','other than four','other than four','other than four','other than four','other than four'],inplace=True)"
   ]
  },
  {
   "cell_type": "code",
   "execution_count": 1162,
   "id": "6793916b",
   "metadata": {},
   "outputs": [
    {
     "name": "stderr",
     "output_type": "stream",
     "text": [
      "C:\\ProgramData\\Anaconda3\\lib\\site-packages\\seaborn\\_decorators.py:36: FutureWarning: Pass the following variable as a keyword arg: x. From version 0.12, the only valid positional argument will be `data`, and passing other arguments without an explicit keyword will result in an error or misinterpretation.\n",
      "  warnings.warn(\n"
     ]
    },
    {
     "data": {
      "text/plain": [
       "<AxesSubplot:xlabel='no_cyl', ylabel='count'>"
      ]
     },
     "execution_count": 1162,
     "metadata": {},
     "output_type": "execute_result"
    },
    {
     "data": {
      "image/png": "[encoded data removed]",
      "text/plain": [
       "<Figure size 432x288 with 1 Axes>"
      ]
     },
     "metadata": {
      "needs_background": "light"
     },
     "output_type": "display_data"
    }
   ],
   "source": [
    "sns.countplot(data.no_cyl)"
   ]
  },
  {
   "cell_type": "markdown",
   "id": "953b4945",
   "metadata": {},
   "source": [
    "<H6>\n",
    "COLUMN 17 :ENGINE SIZE\n",
    "    <H6>"
   ]
  },
  {
   "cell_type": "code",
   "execution_count": 1163,
   "id": "e54586de",
   "metadata": {},
   "outputs": [
    {
     "data": {
      "text/plain": [
       "count    205.000000\n",
       "mean     126.907317\n",
       "std       41.642693\n",
       "min       61.000000\n",
       "25%       97.000000\n",
       "50%      120.000000\n",
       "75%      141.000000\n",
       "max      326.000000\n",
       "Name: engine_size, dtype: float64"
      ]
     },
     "execution_count": 1163,
     "metadata": {},
     "output_type": "execute_result"
    }
   ],
   "source": [
    "data.engine_size.describe()"
   ]
  },
  {
   "cell_type": "code",
   "execution_count": 1164,
   "id": "fee71752",
   "metadata": {},
   "outputs": [
    {
     "data": {
      "text/plain": [
       "0"
      ]
     },
     "execution_count": 1164,
     "metadata": {},
     "output_type": "execute_result"
    }
   ],
   "source": [
    "data.engine_size.isnull().sum()"
   ]
  },
  {
   "cell_type": "code",
   "execution_count": 1165,
   "id": "e0fb6b8a",
   "metadata": {},
   "outputs": [
    {
     "data": {
      "text/plain": [
       "{'whiskers': [<matplotlib.lines.Line2D at 0x1ead3a58fd0>,\n",
       "  <matplotlib.lines.Line2D at 0x1ead3a663a0>],\n",
       " 'caps': [<matplotlib.lines.Line2D at 0x1ead3a66730>,\n",
       "  <matplotlib.lines.Line2D at 0x1ead3a66ac0>],\n",
       " 'boxes': [<matplotlib.lines.Line2D at 0x1ead3a58c40>],\n",
       " 'medians': [<matplotlib.lines.Line2D at 0x1ead3a66e50>],\n",
       " 'fliers': [<matplotlib.lines.Line2D at 0x1ead3a73220>],\n",
       " 'means': []}"
      ]
     },
     "execution_count": 1165,
     "metadata": {},
     "output_type": "execute_result"
    },
    {
     "data": {
      "image/png": "[encoded data removed]",
      "text/plain": [
       "<Figure size 432x288 with 1 Axes>"
      ]
     },
     "metadata": {
      "needs_background": "light"
     },
     "output_type": "display_data"
    }
   ],
   "source": [
    "plt.boxplot(data.engine_size)"
   ]
  },
  {
   "cell_type": "code",
   "execution_count": 1166,
   "id": "4e7109e1",
   "metadata": {},
   "outputs": [
    {
     "data": {
      "text/plain": [
       "array([130, 152, 109, 136, 131, 108, 164, 209,  61,  90,  98, 122, 156,\n",
       "        92,  79, 110, 111, 119, 258, 326,  91,  70,  80, 140, 134, 183,\n",
       "       234, 308, 304,  97, 103, 120, 181, 151, 194, 203, 132, 121, 146,\n",
       "       171, 161, 141, 173, 145], dtype=int64)"
      ]
     },
     "execution_count": 1166,
     "metadata": {},
     "output_type": "execute_result"
    }
   ],
   "source": [
    "data.engine_size.unique()"
   ]
  },
  {
   "cell_type": "code",
   "execution_count": 1167,
   "id": "8b526106",
   "metadata": {},
   "outputs": [
    {
     "data": {
      "text/plain": [
       "(array([ 6., 95., 46., 30., 14.,  7.,  2.,  2.,  0.,  3.]),\n",
       " array([ 61. ,  87.5, 114. , 140.5, 167. , 193.5, 220. , 246.5, 273. ,\n",
       "        299.5, 326. ]),\n",
       " <BarContainer object of 10 artists>)"
      ]
     },
     "execution_count": 1167,
     "metadata": {},
     "output_type": "execute_result"
    },
    {
     "data": {
      "image/png": "[encoded data removed]",
      "text/plain": [
       "<Figure size 432x288 with 1 Axes>"
      ]
     },
     "metadata": {
      "needs_background": "light"
     },
     "output_type": "display_data"
    }
   ],
   "source": [
    "plt.hist(data.engine_size)"
   ]
  },
  {
   "cell_type": "code",
   "execution_count": 1168,
   "id": "667a9e5e",
   "metadata": {},
   "outputs": [
    {
     "data": {
      "text/plain": [
       "ShapiroResult(statistic=0.8294388651847839, pvalue=3.0569154792128156e-14)"
      ]
     },
     "execution_count": 1168,
     "metadata": {},
     "output_type": "execute_result"
    }
   ],
   "source": [
    "stats.shapiro(data.engine_size)"
   ]
  },
  {
   "cell_type": "markdown",
   "id": "20811cac",
   "metadata": {},
   "source": [
    "<H6>\n",
    "P VALUE IS LOW SO NOT NORMAL DISTRIBUTION\n",
    "<H6>"
   ]
  },
  {
   "cell_type": "markdown",
   "id": "00ef62b0",
   "metadata": {},
   "source": [
    "<H6>\n",
    "COLUMN 18: FUEL SYSTEM\n",
    "    <H6>"
   ]
  },
  {
   "cell_type": "code",
   "execution_count": 1169,
   "id": "b52ac913",
   "metadata": {},
   "outputs": [
    {
     "data": {
      "text/plain": [
       "count      205\n",
       "unique       8\n",
       "top       mpfi\n",
       "freq        94\n",
       "Name: fuel_system, dtype: object"
      ]
     },
     "execution_count": 1169,
     "metadata": {},
     "output_type": "execute_result"
    }
   ],
   "source": [
    "data.fuel_system.describe()"
   ]
  },
  {
   "cell_type": "code",
   "execution_count": 1170,
   "id": "a873c41e",
   "metadata": {},
   "outputs": [
    {
     "data": {
      "text/plain": [
       "mpfi    94\n",
       "2bbl    66\n",
       "idi     20\n",
       "1bbl    11\n",
       "spdi     9\n",
       "4bbl     3\n",
       "mfi      1\n",
       "spfi     1\n",
       "Name: fuel_system, dtype: int64"
      ]
     },
     "execution_count": 1170,
     "metadata": {},
     "output_type": "execute_result"
    }
   ],
   "source": [
    "data.fuel_system.value_counts()"
   ]
  },
  {
   "cell_type": "code",
   "execution_count": 1171,
   "id": "9c6d9064",
   "metadata": {},
   "outputs": [
    {
     "data": {
      "text/plain": [
       "array(['mpfi', '2bbl', 'mfi', '1bbl', 'spfi', '4bbl', 'idi', 'spdi'],\n",
       "      dtype=object)"
      ]
     },
     "execution_count": 1171,
     "metadata": {},
     "output_type": "execute_result"
    }
   ],
   "source": [
    "data.fuel_system.unique()"
   ]
  },
  {
   "cell_type": "code",
   "execution_count": 1172,
   "id": "a41e670a",
   "metadata": {},
   "outputs": [
    {
     "name": "stderr",
     "output_type": "stream",
     "text": [
      "C:\\ProgramData\\Anaconda3\\lib\\site-packages\\seaborn\\_decorators.py:36: FutureWarning: Pass the following variable as a keyword arg: x. From version 0.12, the only valid positional argument will be `data`, and passing other arguments without an explicit keyword will result in an error or misinterpretation.\n",
      "  warnings.warn(\n"
     ]
    },
    {
     "data": {
      "text/plain": [
       "<AxesSubplot:xlabel='fuel_system', ylabel='count'>"
      ]
     },
     "execution_count": 1172,
     "metadata": {},
     "output_type": "execute_result"
    },
    {
     "data": {
      "image/png": "[encoded data removed]",
      "text/plain": [
       "<Figure size 432x288 with 1 Axes>"
      ]
     },
     "metadata": {
      "needs_background": "light"
     },
     "output_type": "display_data"
    }
   ],
   "source": [
    "sns.countplot(data.fuel_system)"
   ]
  },
  {
   "cell_type": "code",
   "execution_count": 1173,
   "id": "921500c3",
   "metadata": {},
   "outputs": [],
   "source": [
    "data.fuel_system.replace(['mfi','1bbl','spfi','4bbl','idi','spdi'],['others','others','others','others','others','others'],inplace=True)"
   ]
  },
  {
   "cell_type": "code",
   "execution_count": 1174,
   "id": "4c89a0ed",
   "metadata": {},
   "outputs": [
    {
     "name": "stderr",
     "output_type": "stream",
     "text": [
      "C:\\ProgramData\\Anaconda3\\lib\\site-packages\\seaborn\\_decorators.py:36: FutureWarning: Pass the following variable as a keyword arg: x. From version 0.12, the only valid positional argument will be `data`, and passing other arguments without an explicit keyword will result in an error or misinterpretation.\n",
      "  warnings.warn(\n"
     ]
    },
    {
     "data": {
      "text/plain": [
       "<AxesSubplot:xlabel='fuel_system', ylabel='count'>"
      ]
     },
     "execution_count": 1174,
     "metadata": {},
     "output_type": "execute_result"
    },
    {
     "data": {
      "image/png": "[encoded data removed]",
      "text/plain": [
       "<Figure size 432x288 with 1 Axes>"
      ]
     },
     "metadata": {
      "needs_background": "light"
     },
     "output_type": "display_data"
    }
   ],
   "source": [
    "sns.countplot(data.fuel_system)"
   ]
  },
  {
   "cell_type": "markdown",
   "id": "c13e431a",
   "metadata": {},
   "source": [
    "<H6>\n",
    "COLUMN 19:BORE\n",
    "    <H6>"
   ]
  },
  {
   "cell_type": "code",
   "execution_count": 1175,
   "id": "7641e9d8",
   "metadata": {},
   "outputs": [
    {
     "data": {
      "text/plain": [
       "count    201.000000\n",
       "mean       3.329751\n",
       "std        0.273539\n",
       "min        2.540000\n",
       "25%        3.150000\n",
       "50%        3.310000\n",
       "75%        3.590000\n",
       "max        3.940000\n",
       "Name: bore, dtype: float64"
      ]
     },
     "execution_count": 1175,
     "metadata": {},
     "output_type": "execute_result"
    }
   ],
   "source": [
    "data.bore.describe()"
   ]
  },
  {
   "cell_type": "code",
   "execution_count": 1176,
   "id": "6b75cc08",
   "metadata": {},
   "outputs": [
    {
     "data": {
      "text/plain": [
       "4"
      ]
     },
     "execution_count": 1176,
     "metadata": {},
     "output_type": "execute_result"
    }
   ],
   "source": [
    "data.bore.isnull().sum()"
   ]
  },
  {
   "cell_type": "code",
   "execution_count": 1177,
   "id": "2c4f0ef0",
   "metadata": {},
   "outputs": [
    {
     "data": {
      "text/plain": [
       "array([3.47, 2.68, 3.19, 3.13, 3.5 , 3.31, 3.62, 2.91, 3.03, 2.97, 3.34,\n",
       "       3.6 , 2.92, 3.15, 3.43, 3.63, 3.54, 3.08,  nan, 3.39, 3.76, 3.58,\n",
       "       3.46, 3.8 , 3.78, 3.17, 3.35, 3.59, 2.99, 3.33, 3.7 , 3.61, 3.94,\n",
       "       3.74, 2.54, 3.05, 3.27, 3.24, 3.01])"
      ]
     },
     "execution_count": 1177,
     "metadata": {},
     "output_type": "execute_result"
    }
   ],
   "source": [
    "data.bore.unique()"
   ]
  },
  {
   "cell_type": "code",
   "execution_count": 1178,
   "id": "c7c38908",
   "metadata": {},
   "outputs": [],
   "source": [
    "data.bore.fillna(data.bore.mean(),inplace=True)"
   ]
  },
  {
   "cell_type": "code",
   "execution_count": 1179,
   "id": "240da03f",
   "metadata": {},
   "outputs": [
    {
     "data": {
      "text/plain": [
       "array([3.47      , 2.68      , 3.19      , 3.13      , 3.5       ,\n",
       "       3.31      , 3.62      , 2.91      , 3.03      , 2.97      ,\n",
       "       3.34      , 3.6       , 2.92      , 3.15      , 3.43      ,\n",
       "       3.63      , 3.54      , 3.08      , 3.32975124, 3.39      ,\n",
       "       3.76      , 3.58      , 3.46      , 3.8       , 3.78      ,\n",
       "       3.17      , 3.35      , 3.59      , 2.99      , 3.33      ,\n",
       "       3.7       , 3.61      , 3.94      , 3.74      , 2.54      ,\n",
       "       3.05      , 3.27      , 3.24      , 3.01      ])"
      ]
     },
     "execution_count": 1179,
     "metadata": {},
     "output_type": "execute_result"
    }
   ],
   "source": [
    "data.bore.unique()"
   ]
  },
  {
   "cell_type": "code",
   "execution_count": 1180,
   "id": "d11657c8",
   "metadata": {},
   "outputs": [
    {
     "data": {
      "text/plain": [
       "0"
      ]
     },
     "execution_count": 1180,
     "metadata": {},
     "output_type": "execute_result"
    }
   ],
   "source": [
    "data.bore.isnull().sum()"
   ]
  },
  {
   "cell_type": "code",
   "execution_count": 1181,
   "id": "6577f868",
   "metadata": {},
   "outputs": [
    {
     "data": {
      "text/plain": [
       "{'whiskers': [<matplotlib.lines.Line2D at 0x1ead1d48eb0>,\n",
       "  <matplotlib.lines.Line2D at 0x1ead1d57280>],\n",
       " 'caps': [<matplotlib.lines.Line2D at 0x1ead1d57610>,\n",
       "  <matplotlib.lines.Line2D at 0x1ead1d579a0>],\n",
       " 'boxes': [<matplotlib.lines.Line2D at 0x1ead1d48b20>],\n",
       " 'medians': [<matplotlib.lines.Line2D at 0x1ead1d57d30>],\n",
       " 'fliers': [<matplotlib.lines.Line2D at 0x1ead1d66100>],\n",
       " 'means': []}"
      ]
     },
     "execution_count": 1181,
     "metadata": {},
     "output_type": "execute_result"
    },
    {
     "data": {
      "image/png": "[encoded data removed]",
      "text/plain": [
       "<Figure size 432x288 with 1 Axes>"
      ]
     },
     "metadata": {
      "needs_background": "light"
     },
     "output_type": "display_data"
    }
   ],
   "source": [
    "plt.boxplot(data.bore)"
   ]
  },
  {
   "cell_type": "code",
   "execution_count": 1182,
   "id": "9f0481fc",
   "metadata": {},
   "outputs": [
    {
     "data": {
      "text/plain": [
       "(array([ 1.,  1.,  8., 37., 40., 28., 27., 42., 17.,  4.]),\n",
       " array([2.54, 2.68, 2.82, 2.96, 3.1 , 3.24, 3.38, 3.52, 3.66, 3.8 , 3.94]),\n",
       " <BarContainer object of 10 artists>)"
      ]
     },
     "execution_count": 1182,
     "metadata": {},
     "output_type": "execute_result"
    },
    {
     "data": {
      "image/png": "[encoded data removed]",
      "text/plain": [
       "<Figure size 432x288 with 1 Axes>"
      ]
     },
     "metadata": {
      "needs_background": "light"
     },
     "output_type": "display_data"
    }
   ],
   "source": [
    "plt.hist(data.bore)"
   ]
  },
  {
   "cell_type": "code",
   "execution_count": 1183,
   "id": "e590e0a2",
   "metadata": {},
   "outputs": [
    {
     "data": {
      "text/plain": [
       "ShapiroResult(statistic=0.967185378074646, pvalue=0.00010421191109344363)"
      ]
     },
     "execution_count": 1183,
     "metadata": {},
     "output_type": "execute_result"
    }
   ],
   "source": [
    "stats.shapiro(data.bore)"
   ]
  },
  {
   "cell_type": "markdown",
   "id": "e474d817",
   "metadata": {},
   "source": [
    "<H6>\n",
    "Not normallay distributed\n",
    "<H6>"
   ]
  },
  {
   "cell_type": "markdown",
   "id": "51327bf0",
   "metadata": {},
   "source": [
    "<H6>\n",
    "COLUMN 20: STROKE\n",
    "    <H6>"
   ]
  },
  {
   "cell_type": "code",
   "execution_count": 1184,
   "id": "875fb143",
   "metadata": {},
   "outputs": [
    {
     "data": {
      "text/plain": [
       "count    201.000000\n",
       "mean       3.255423\n",
       "std        0.316717\n",
       "min        2.070000\n",
       "25%        3.110000\n",
       "50%        3.290000\n",
       "75%        3.410000\n",
       "max        4.170000\n",
       "Name: stroke, dtype: float64"
      ]
     },
     "execution_count": 1184,
     "metadata": {},
     "output_type": "execute_result"
    }
   ],
   "source": [
    "data.stroke.describe()"
   ]
  },
  {
   "cell_type": "code",
   "execution_count": 1185,
   "id": "6d1ed0f3",
   "metadata": {},
   "outputs": [
    {
     "data": {
      "text/plain": [
       "4"
      ]
     },
     "execution_count": 1185,
     "metadata": {},
     "output_type": "execute_result"
    }
   ],
   "source": [
    "data.stroke.isnull().sum()"
   ]
  },
  {
   "cell_type": "code",
   "execution_count": 1186,
   "id": "dd0742a8",
   "metadata": {},
   "outputs": [
    {
     "data": {
      "text/plain": [
       "array([2.68, 3.47, 3.4 , 2.8 , 3.19, 3.39, 3.03, 3.11, 3.23, 3.46, 3.9 ,\n",
       "       3.41, 3.07, 3.58, 4.17, 2.76, 3.15,  nan, 3.16, 3.64, 3.1 , 3.35,\n",
       "       3.12, 3.86, 3.29, 3.27, 3.52, 2.19, 3.21, 2.9 , 2.07, 2.36, 2.64,\n",
       "       3.08, 3.5 , 3.54, 2.87])"
      ]
     },
     "execution_count": 1186,
     "metadata": {},
     "output_type": "execute_result"
    }
   ],
   "source": [
    "data.stroke.unique()"
   ]
  },
  {
   "cell_type": "code",
   "execution_count": 1187,
   "id": "a6ec74e5",
   "metadata": {},
   "outputs": [],
   "source": [
    "data.stroke.fillna(data.stroke.mean(),inplace=True)"
   ]
  },
  {
   "cell_type": "code",
   "execution_count": 1188,
   "id": "a5a22c05",
   "metadata": {},
   "outputs": [
    {
     "data": {
      "text/plain": [
       "0"
      ]
     },
     "execution_count": 1188,
     "metadata": {},
     "output_type": "execute_result"
    }
   ],
   "source": [
    "data.stroke.isnull().sum()"
   ]
  },
  {
   "cell_type": "code",
   "execution_count": 1189,
   "id": "8bf2a821",
   "metadata": {},
   "outputs": [
    {
     "data": {
      "text/plain": [
       "{'whiskers': [<matplotlib.lines.Line2D at 0x1ead3b175e0>,\n",
       "  <matplotlib.lines.Line2D at 0x1ead3b17970>],\n",
       " 'caps': [<matplotlib.lines.Line2D at 0x1ead3b17d00>,\n",
       "  <matplotlib.lines.Line2D at 0x1ead3b21070>],\n",
       " 'boxes': [<matplotlib.lines.Line2D at 0x1ead3b17250>],\n",
       " 'medians': [<matplotlib.lines.Line2D at 0x1ead3b21310>],\n",
       " 'fliers': [<matplotlib.lines.Line2D at 0x1ead3b216a0>],\n",
       " 'means': []}"
      ]
     },
     "execution_count": 1189,
     "metadata": {},
     "output_type": "execute_result"
    },
    {
     "data": {
      "image/png": "[encoded data removed]",
      "text/plain": [
       "<Figure size 432x288 with 1 Axes>"
      ]
     },
     "metadata": {
      "needs_background": "light"
     },
     "output_type": "display_data"
    }
   ],
   "source": [
    "plt.boxplot(data.stroke)"
   ]
  },
  {
   "cell_type": "code",
   "execution_count": 1190,
   "id": "b03907e6",
   "metadata": {},
   "outputs": [
    {
     "data": {
      "text/plain": [
       "array([2.68      , 3.47      , 3.4       , 2.8       , 3.19      ,\n",
       "       3.39      , 3.03      , 3.11      , 3.23      , 3.46      ,\n",
       "       3.9       , 3.41      , 3.07      , 3.58      , 4.17      ,\n",
       "       2.76      , 3.15      , 3.25542289, 3.16      , 3.64      ,\n",
       "       3.1       , 3.35      , 3.12      , 3.86      , 3.29      ,\n",
       "       3.27      , 3.52      , 2.19      , 3.21      , 2.9       ,\n",
       "       2.07      , 2.36      , 2.64      , 3.08      , 3.5       ,\n",
       "       3.54      , 2.87      ])"
      ]
     },
     "execution_count": 1190,
     "metadata": {},
     "output_type": "execute_result"
    }
   ],
   "source": [
    "data.stroke.unique()"
   ]
  },
  {
   "cell_type": "code",
   "execution_count": 1191,
   "id": "c52fcf4c",
   "metadata": {},
   "outputs": [
    {
     "data": {
      "text/plain": [
       "(array([ 3.,  1., 13.,  7., 30., 56., 71., 15.,  7.,  2.]),\n",
       " array([2.07, 2.28, 2.49, 2.7 , 2.91, 3.12, 3.33, 3.54, 3.75, 3.96, 4.17]),\n",
       " <BarContainer object of 10 artists>)"
      ]
     },
     "execution_count": 1191,
     "metadata": {},
     "output_type": "execute_result"
    },
    {
     "data": {
      "image/png": "[encoded data removed]",
      "text/plain": [
       "<Figure size 432x288 with 1 Axes>"
      ]
     },
     "metadata": {
      "needs_background": "light"
     },
     "output_type": "display_data"
    }
   ],
   "source": [
    "plt.hist(data.stroke)"
   ]
  },
  {
   "cell_type": "code",
   "execution_count": 1192,
   "id": "015232b6",
   "metadata": {},
   "outputs": [
    {
     "data": {
      "text/plain": [
       "ShapiroResult(statistic=0.9377973675727844, pvalue=1.0984009435333064e-07)"
      ]
     },
     "execution_count": 1192,
     "metadata": {},
     "output_type": "execute_result"
    }
   ],
   "source": [
    "stats.shapiro(data.stroke)"
   ]
  },
  {
   "cell_type": "markdown",
   "id": "0b1ca88a",
   "metadata": {},
   "source": [
    "<H6>\n",
    "Not normallay distributed\n",
    "<H6>"
   ]
  },
  {
   "cell_type": "markdown",
   "id": "78d16385",
   "metadata": {},
   "source": [
    "<H6>\n",
    "COLUMN 21:COMPRESSION RATIO\n",
    "<H6>"
   ]
  },
  {
   "cell_type": "code",
   "execution_count": 1193,
   "id": "4e09c639",
   "metadata": {},
   "outputs": [
    {
     "data": {
      "text/plain": [
       "count    205.000000\n",
       "mean      10.142537\n",
       "std        3.972040\n",
       "min        7.000000\n",
       "25%        8.600000\n",
       "50%        9.000000\n",
       "75%        9.400000\n",
       "max       23.000000\n",
       "Name: com_ratio, dtype: float64"
      ]
     },
     "execution_count": 1193,
     "metadata": {},
     "output_type": "execute_result"
    }
   ],
   "source": [
    "data.com_ratio.describe()"
   ]
  },
  {
   "cell_type": "code",
   "execution_count": 1194,
   "id": "456d9060",
   "metadata": {},
   "outputs": [
    {
     "data": {
      "text/plain": [
       "0"
      ]
     },
     "execution_count": 1194,
     "metadata": {},
     "output_type": "execute_result"
    }
   ],
   "source": [
    "data.com_ratio.isnull().sum()"
   ]
  },
  {
   "cell_type": "code",
   "execution_count": 1195,
   "id": "421c22db",
   "metadata": {},
   "outputs": [
    {
     "data": {
      "text/plain": [
       "{'whiskers': [<matplotlib.lines.Line2D at 0x1ead3bf2a90>,\n",
       "  <matplotlib.lines.Line2D at 0x1ead3bf2e20>],\n",
       " 'caps': [<matplotlib.lines.Line2D at 0x1ead3c001f0>,\n",
       "  <matplotlib.lines.Line2D at 0x1ead3c00580>],\n",
       " 'boxes': [<matplotlib.lines.Line2D at 0x1ead3bf2700>],\n",
       " 'medians': [<matplotlib.lines.Line2D at 0x1ead3c00910>],\n",
       " 'fliers': [<matplotlib.lines.Line2D at 0x1ead3c00ca0>],\n",
       " 'means': []}"
      ]
     },
     "execution_count": 1195,
     "metadata": {},
     "output_type": "execute_result"
    },
    {
     "data": {
      "image/png": "[encoded data removed]",
      "text/plain": [
       "<Figure size 432x288 with 1 Axes>"
      ]
     },
     "metadata": {
      "needs_background": "light"
     },
     "output_type": "display_data"
    }
   ],
   "source": [
    "plt.boxplot(data.com_ratio)"
   ]
  },
  {
   "cell_type": "code",
   "execution_count": 1196,
   "id": "8c1e81be",
   "metadata": {},
   "outputs": [
    {
     "data": {
      "text/plain": [
       "array([ 9.  , 10.  ,  8.  ,  8.5 ,  8.3 ,  7.  ,  8.8 ,  9.5 ,  9.6 ,\n",
       "        9.41,  9.4 ,  7.6 ,  9.2 , 10.1 ,  9.1 ,  8.1 , 11.5 ,  8.6 ,\n",
       "       22.7 , 22.  , 21.5 ,  7.5 , 21.9 ,  7.8 ,  8.4 , 21.  ,  8.7 ,\n",
       "        9.31,  9.3 ,  7.7 , 22.5 , 23.  ])"
      ]
     },
     "execution_count": 1196,
     "metadata": {},
     "output_type": "execute_result"
    }
   ],
   "source": [
    "data.com_ratio.unique()"
   ]
  },
  {
   "cell_type": "code",
   "execution_count": 1197,
   "id": "b80f3867",
   "metadata": {},
   "outputs": [
    {
     "data": {
      "text/plain": [
       "(array([ 51., 133.,   1.,   0.,   0.,   0.,   0.,   0.,   5.,  15.]),\n",
       " array([ 7. ,  8.6, 10.2, 11.8, 13.4, 15. , 16.6, 18.2, 19.8, 21.4, 23. ]),\n",
       " <BarContainer object of 10 artists>)"
      ]
     },
     "execution_count": 1197,
     "metadata": {},
     "output_type": "execute_result"
    },
    {
     "data": {
      "image/png": "[encoded data removed]",
      "text/plain": [
       "<Figure size 432x288 with 1 Axes>"
      ]
     },
     "metadata": {
      "needs_background": "light"
     },
     "output_type": "display_data"
    }
   ],
   "source": [
    "plt.hist(data.com_ratio)"
   ]
  },
  {
   "cell_type": "code",
   "execution_count": 1198,
   "id": "ace74a53",
   "metadata": {},
   "outputs": [
    {
     "data": {
      "text/plain": [
       "ShapiroResult(statistic=0.49774158000946045, pvalue=8.12114079238121e-24)"
      ]
     },
     "execution_count": 1198,
     "metadata": {},
     "output_type": "execute_result"
    }
   ],
   "source": [
    "stats.shapiro(data.com_ratio)"
   ]
  },
  {
   "cell_type": "markdown",
   "id": "86054209",
   "metadata": {},
   "source": [
    "<H6>\n",
    "Not normallay distributed\n",
    "<H6>"
   ]
  },
  {
   "cell_type": "markdown",
   "id": "32a7a22c",
   "metadata": {},
   "source": [
    "<H6>\n",
    "COLUMN 22:  HORSEPOWER\n",
    "<H6>"
   ]
  },
  {
   "cell_type": "code",
   "execution_count": 1199,
   "id": "02632626",
   "metadata": {},
   "outputs": [
    {
     "data": {
      "text/plain": [
       "count    203.000000\n",
       "mean     104.256158\n",
       "std       39.714369\n",
       "min       48.000000\n",
       "25%       70.000000\n",
       "50%       95.000000\n",
       "75%      116.000000\n",
       "max      288.000000\n",
       "Name: hpower, dtype: float64"
      ]
     },
     "execution_count": 1199,
     "metadata": {},
     "output_type": "execute_result"
    }
   ],
   "source": [
    "data.hpower.describe()"
   ]
  },
  {
   "cell_type": "code",
   "execution_count": 1200,
   "id": "8ae7892c",
   "metadata": {},
   "outputs": [
    {
     "data": {
      "text/plain": [
       "2"
      ]
     },
     "execution_count": 1200,
     "metadata": {},
     "output_type": "execute_result"
    }
   ],
   "source": [
    "data.hpower.isnull().sum()"
   ]
  },
  {
   "cell_type": "code",
   "execution_count": 1201,
   "id": "f9968996",
   "metadata": {},
   "outputs": [
    {
     "data": {
      "text/plain": [
       "array([111., 154., 102., 115., 110., 140., 160., 101., 121., 182.,  48.,\n",
       "        70.,  68.,  88., 145.,  58.,  76.,  60.,  86., 100.,  78.,  90.,\n",
       "       176., 262., 135.,  84.,  64., 120.,  72., 123., 155., 184., 175.,\n",
       "       116.,  69.,  55.,  97., 152., 200.,  95., 142., 143., 207., 288.,\n",
       "        nan,  73.,  82.,  94.,  62.,  56., 112.,  92., 161., 156.,  52.,\n",
       "        85., 114., 162., 134., 106.])"
      ]
     },
     "execution_count": 1201,
     "metadata": {},
     "output_type": "execute_result"
    }
   ],
   "source": [
    "data.hpower.unique()"
   ]
  },
  {
   "cell_type": "code",
   "execution_count": 1202,
   "id": "1b611662",
   "metadata": {},
   "outputs": [],
   "source": [
    "data.hpower.fillna(data.hpower.mean(),inplace=True)"
   ]
  },
  {
   "cell_type": "code",
   "execution_count": 1203,
   "id": "3f190cff",
   "metadata": {},
   "outputs": [
    {
     "data": {
      "text/plain": [
       "0"
      ]
     },
     "execution_count": 1203,
     "metadata": {},
     "output_type": "execute_result"
    }
   ],
   "source": [
    "data.hpower.isnull().sum()"
   ]
  },
  {
   "cell_type": "code",
   "execution_count": 1204,
   "id": "1c0ce1da",
   "metadata": {},
   "outputs": [
    {
     "data": {
      "text/plain": [
       "{'whiskers': [<matplotlib.lines.Line2D at 0x1ead3ce95e0>,\n",
       "  <matplotlib.lines.Line2D at 0x1ead3ce9970>],\n",
       " 'caps': [<matplotlib.lines.Line2D at 0x1ead3ce9d00>,\n",
       "  <matplotlib.lines.Line2D at 0x1ead3cf30d0>],\n",
       " 'boxes': [<matplotlib.lines.Line2D at 0x1ead3ce9250>],\n",
       " 'medians': [<matplotlib.lines.Line2D at 0x1ead3cf3460>],\n",
       " 'fliers': [<matplotlib.lines.Line2D at 0x1ead3cf37f0>],\n",
       " 'means': []}"
      ]
     },
     "execution_count": 1204,
     "metadata": {},
     "output_type": "execute_result"
    },
    {
     "data": {
      "image/png": "[encoded data removed]",
      "text/plain": [
       "<Figure size 432x288 with 1 Axes>"
      ]
     },
     "metadata": {
      "needs_background": "light"
     },
     "output_type": "display_data"
    }
   ],
   "source": [
    "plt.boxplot(data.hpower)"
   ]
  },
  {
   "cell_type": "code",
   "execution_count": 1205,
   "id": "f2d14fb3",
   "metadata": {},
   "outputs": [
    {
     "data": {
      "text/plain": [
       "(array([55., 49., 51., 13., 23.,  8.,  4.,  0.,  1.,  1.]),\n",
       " array([ 48.,  72.,  96., 120., 144., 168., 192., 216., 240., 264., 288.]),\n",
       " <BarContainer object of 10 artists>)"
      ]
     },
     "execution_count": 1205,
     "metadata": {},
     "output_type": "execute_result"
    },
    {
     "data": {
      "image/png": "[encoded data removed]",
      "text/plain": [
       "<Figure size 432x288 with 1 Axes>"
      ]
     },
     "metadata": {
      "needs_background": "light"
     },
     "output_type": "display_data"
    }
   ],
   "source": [
    "plt.hist(data.hpower)"
   ]
  },
  {
   "cell_type": "code",
   "execution_count": 1206,
   "id": "a2bed6be",
   "metadata": {},
   "outputs": [
    {
     "data": {
      "text/plain": [
       "ShapiroResult(statistic=0.8850876688957214, pvalue=2.11449850684442e-11)"
      ]
     },
     "execution_count": 1206,
     "metadata": {},
     "output_type": "execute_result"
    }
   ],
   "source": [
    "stats.shapiro(data.hpower)"
   ]
  },
  {
   "cell_type": "markdown",
   "id": "f4a28667",
   "metadata": {},
   "source": [
    "<H6>\n",
    "Not normallay distributed\n",
    "<H6>"
   ]
  },
  {
   "cell_type": "markdown",
   "id": "c8c21759",
   "metadata": {},
   "source": [
    "<H6>\n",
    "COLUMN 23:  PEAK RPM\n",
    "<H6>"
   ]
  },
  {
   "cell_type": "code",
   "execution_count": 1207,
   "id": "521f2f10",
   "metadata": {},
   "outputs": [
    {
     "data": {
      "text/plain": [
       "count     203.000000\n",
       "mean     5125.369458\n",
       "std       479.334560\n",
       "min      4150.000000\n",
       "25%      4800.000000\n",
       "50%      5200.000000\n",
       "75%      5500.000000\n",
       "max      6600.000000\n",
       "Name: peak_rpm, dtype: float64"
      ]
     },
     "execution_count": 1207,
     "metadata": {},
     "output_type": "execute_result"
    }
   ],
   "source": [
    "data.peak_rpm.describe()"
   ]
  },
  {
   "cell_type": "code",
   "execution_count": 1208,
   "id": "33252178",
   "metadata": {},
   "outputs": [
    {
     "data": {
      "text/plain": [
       "2"
      ]
     },
     "execution_count": 1208,
     "metadata": {},
     "output_type": "execute_result"
    }
   ],
   "source": [
    "data.peak_rpm.isnull().sum()"
   ]
  },
  {
   "cell_type": "code",
   "execution_count": 1209,
   "id": "b1e0b6f3",
   "metadata": {},
   "outputs": [
    {
     "data": {
      "text/plain": [
       "array([5000., 5500., 5800., 4250., 5400., 5100., 4800., 6000., 4750.,\n",
       "       4650., 4200., 4350., 4500., 5200., 4150., 5600., 5900., 5750.,\n",
       "         nan, 5250., 4900., 4400., 6600., 5300.])"
      ]
     },
     "execution_count": 1209,
     "metadata": {},
     "output_type": "execute_result"
    }
   ],
   "source": [
    "data.peak_rpm.unique()"
   ]
  },
  {
   "cell_type": "code",
   "execution_count": 1210,
   "id": "57607c5a",
   "metadata": {},
   "outputs": [],
   "source": [
    "data.peak_rpm.fillna(data.peak_rpm.mean(),inplace=True)"
   ]
  },
  {
   "cell_type": "code",
   "execution_count": 1211,
   "id": "47939dfd",
   "metadata": {},
   "outputs": [
    {
     "data": {
      "text/plain": [
       "{'whiskers': [<matplotlib.lines.Line2D at 0x1ead5581790>,\n",
       "  <matplotlib.lines.Line2D at 0x1ead5581a60>],\n",
       " 'caps': [<matplotlib.lines.Line2D at 0x1ead5581d60>,\n",
       "  <matplotlib.lines.Line2D at 0x1ead558c130>],\n",
       " 'boxes': [<matplotlib.lines.Line2D at 0x1ead5581460>],\n",
       " 'medians': [<matplotlib.lines.Line2D at 0x1ead558c490>],\n",
       " 'fliers': [<matplotlib.lines.Line2D at 0x1ead558c820>],\n",
       " 'means': []}"
      ]
     },
     "execution_count": 1211,
     "metadata": {},
     "output_type": "execute_result"
    },
    {
     "data": {
      "image/png": "[encoded data removed]",
      "text/plain": [
       "<Figure size 432x288 with 1 Axes>"
      ]
     },
     "metadata": {
      "needs_background": "light"
     },
     "output_type": "display_data"
    }
   ],
   "source": [
    "plt.boxplot(data.peak_rpm)"
   ]
  },
  {
   "cell_type": "code",
   "execution_count": 1212,
   "id": "234f8133",
   "metadata": {},
   "outputs": [
    {
     "data": {
      "text/plain": [
       "(array([17., 10., 41., 33., 31., 51.,  8., 12.,  0.,  2.]),\n",
       " array([4150., 4395., 4640., 4885., 5130., 5375., 5620., 5865., 6110.,\n",
       "        6355., 6600.]),\n",
       " <BarContainer object of 10 artists>)"
      ]
     },
     "execution_count": 1212,
     "metadata": {},
     "output_type": "execute_result"
    },
    {
     "data": {
      "image/png": "[encoded data removed]",
      "text/plain": [
       "<Figure size 432x288 with 1 Axes>"
      ]
     },
     "metadata": {
      "needs_background": "light"
     },
     "output_type": "display_data"
    }
   ],
   "source": [
    "plt.hist(data.peak_rpm)"
   ]
  },
  {
   "cell_type": "code",
   "execution_count": 1213,
   "id": "2fbbdd3a",
   "metadata": {},
   "outputs": [
    {
     "data": {
      "text/plain": [
       "ShapiroResult(statistic=0.9705138802528381, pvalue=0.000267903262283653)"
      ]
     },
     "execution_count": 1213,
     "metadata": {},
     "output_type": "execute_result"
    }
   ],
   "source": [
    "stats.shapiro(data.peak_rpm)"
   ]
  },
  {
   "cell_type": "markdown",
   "id": "ce01e6ed",
   "metadata": {},
   "source": [
    "<H6>\n",
    "Not normallay distributed\n",
    "<H6>"
   ]
  },
  {
   "cell_type": "markdown",
   "id": "f967e050",
   "metadata": {},
   "source": [
    "<H6>\n",
    "COLUMN 24: CITY MPG\n",
    "<H6>"
   ]
  },
  {
   "cell_type": "code",
   "execution_count": 1214,
   "id": "a833c5db",
   "metadata": {},
   "outputs": [
    {
     "data": {
      "text/plain": [
       "count    205.000000\n",
       "mean      25.219512\n",
       "std        6.542142\n",
       "min       13.000000\n",
       "25%       19.000000\n",
       "50%       24.000000\n",
       "75%       30.000000\n",
       "max       49.000000\n",
       "Name: city_mpg, dtype: float64"
      ]
     },
     "execution_count": 1214,
     "metadata": {},
     "output_type": "execute_result"
    }
   ],
   "source": [
    "data.city_mpg.describe()"
   ]
  },
  {
   "cell_type": "code",
   "execution_count": 1215,
   "id": "22cf03d5",
   "metadata": {},
   "outputs": [
    {
     "data": {
      "text/plain": [
       "array([21, 19, 24, 18, 17, 16, 23, 20, 15, 47, 38, 37, 31, 49, 30, 27, 25,\n",
       "       13, 26, 36, 22, 14, 45, 28, 32, 35, 34, 29, 33], dtype=int64)"
      ]
     },
     "execution_count": 1215,
     "metadata": {},
     "output_type": "execute_result"
    }
   ],
   "source": [
    "data.city_mpg.unique()"
   ]
  },
  {
   "cell_type": "code",
   "execution_count": 1216,
   "id": "387112f3",
   "metadata": {},
   "outputs": [
    {
     "data": {
      "text/plain": [
       "0"
      ]
     },
     "execution_count": 1216,
     "metadata": {},
     "output_type": "execute_result"
    }
   ],
   "source": [
    "data.city_mpg.isnull().sum()"
   ]
  },
  {
   "cell_type": "code",
   "execution_count": 1217,
   "id": "620b4e6e",
   "metadata": {},
   "outputs": [
    {
     "data": {
      "text/plain": [
       "{'whiskers': [<matplotlib.lines.Line2D at 0x1ead565d160>,\n",
       "  <matplotlib.lines.Line2D at 0x1ead565d4f0>],\n",
       " 'caps': [<matplotlib.lines.Line2D at 0x1ead565d880>,\n",
       "  <matplotlib.lines.Line2D at 0x1ead565dc10>],\n",
       " 'boxes': [<matplotlib.lines.Line2D at 0x1ead564dd90>],\n",
       " 'medians': [<matplotlib.lines.Line2D at 0x1ead565dfa0>],\n",
       " 'fliers': [<matplotlib.lines.Line2D at 0x1ead5669370>],\n",
       " 'means': []}"
      ]
     },
     "execution_count": 1217,
     "metadata": {},
     "output_type": "execute_result"
    },
    {
     "data": {
      "image/png": "[encoded data removed]",
      "text/plain": [
       "<Figure size 432x288 with 1 Axes>"
      ]
     },
     "metadata": {
      "needs_background": "light"
     },
     "output_type": "display_data"
    }
   ],
   "source": [
    "plt.boxplot(data.city_mpg)"
   ]
  },
  {
   "cell_type": "code",
   "execution_count": 1218,
   "id": "78d94794",
   "metadata": {},
   "outputs": [
    {
     "data": {
      "text/plain": [
       "(array([12., 46., 24., 56., 18., 31., 15.,  0.,  1.,  2.]),\n",
       " array([13. , 16.6, 20.2, 23.8, 27.4, 31. , 34.6, 38.2, 41.8, 45.4, 49. ]),\n",
       " <BarContainer object of 10 artists>)"
      ]
     },
     "execution_count": 1218,
     "metadata": {},
     "output_type": "execute_result"
    },
    {
     "data": {
      "image/png": "[encoded data removed]",
      "text/plain": [
       "<Figure size 432x288 with 1 Axes>"
      ]
     },
     "metadata": {
      "needs_background": "light"
     },
     "output_type": "display_data"
    }
   ],
   "source": [
    "plt.hist(data.city_mpg)"
   ]
  },
  {
   "cell_type": "code",
   "execution_count": 1219,
   "id": "0eb4121f",
   "metadata": {},
   "outputs": [
    {
     "data": {
      "text/plain": [
       "ShapiroResult(statistic=0.9572238922119141, pvalue=7.825866305211093e-06)"
      ]
     },
     "execution_count": 1219,
     "metadata": {},
     "output_type": "execute_result"
    }
   ],
   "source": [
    "stats.shapiro(data.city_mpg)"
   ]
  },
  {
   "cell_type": "markdown",
   "id": "4f3073d9",
   "metadata": {},
   "source": [
    "<H6>\n",
    "Not normallay distributed\n",
    "<H6>"
   ]
  },
  {
   "cell_type": "markdown",
   "id": "427ccb49",
   "metadata": {},
   "source": [
    "<H6>\n",
    "COLUMN 25:HIGHWAY MPG\n",
    "<H6>"
   ]
  },
  {
   "cell_type": "code",
   "execution_count": 1220,
   "id": "ca2e435b",
   "metadata": {},
   "outputs": [
    {
     "data": {
      "text/plain": [
       "count    205.000000\n",
       "mean      30.751220\n",
       "std        6.886443\n",
       "min       16.000000\n",
       "25%       25.000000\n",
       "50%       30.000000\n",
       "75%       34.000000\n",
       "max       54.000000\n",
       "Name: high_mpg, dtype: float64"
      ]
     },
     "execution_count": 1220,
     "metadata": {},
     "output_type": "execute_result"
    }
   ],
   "source": [
    "data.high_mpg.describe()"
   ]
  },
  {
   "cell_type": "code",
   "execution_count": 1221,
   "id": "deca26cf",
   "metadata": {},
   "outputs": [
    {
     "data": {
      "text/plain": [
       "0"
      ]
     },
     "execution_count": 1221,
     "metadata": {},
     "output_type": "execute_result"
    }
   ],
   "source": [
    "data.high_mpg.isnull().sum()"
   ]
  },
  {
   "cell_type": "code",
   "execution_count": 1222,
   "id": "e97bd02a",
   "metadata": {},
   "outputs": [
    {
     "data": {
      "text/plain": [
       "array([27, 26, 30, 22, 25, 20, 29, 28, 53, 43, 41, 38, 24, 54, 42, 34, 33,\n",
       "       31, 19, 17, 23, 32, 39, 18, 16, 37, 50, 36, 47, 46], dtype=int64)"
      ]
     },
     "execution_count": 1222,
     "metadata": {},
     "output_type": "execute_result"
    }
   ],
   "source": [
    "data.high_mpg.unique()"
   ]
  },
  {
   "cell_type": "code",
   "execution_count": 1223,
   "id": "581c43a1",
   "metadata": {},
   "outputs": [
    {
     "data": {
      "text/plain": [
       "{'whiskers': [<matplotlib.lines.Line2D at 0x1ead5739fd0>,\n",
       "  <matplotlib.lines.Line2D at 0x1ead57493a0>],\n",
       " 'caps': [<matplotlib.lines.Line2D at 0x1ead5749730>,\n",
       "  <matplotlib.lines.Line2D at 0x1ead5749ac0>],\n",
       " 'boxes': [<matplotlib.lines.Line2D at 0x1ead5739c10>],\n",
       " 'medians': [<matplotlib.lines.Line2D at 0x1ead5749e50>],\n",
       " 'fliers': [<matplotlib.lines.Line2D at 0x1ead5755220>],\n",
       " 'means': []}"
      ]
     },
     "execution_count": 1223,
     "metadata": {},
     "output_type": "execute_result"
    },
    {
     "data": {
      "image/png": "[encoded data removed]",
      "text/plain": [
       "<Figure size 432x288 with 1 Axes>"
      ]
     },
     "metadata": {
      "needs_background": "light"
     },
     "output_type": "display_data"
    }
   ],
   "source": [
    "plt.boxplot(data.high_mpg)"
   ]
  },
  {
   "cell_type": "code",
   "execution_count": 1224,
   "id": "1b0df721",
   "metadata": {},
   "outputs": [
    {
     "data": {
      "text/plain": [
       "(array([ 7., 17., 44., 47., 39., 32.,  8.,  6.,  3.,  2.]),\n",
       " array([16. , 19.8, 23.6, 27.4, 31.2, 35. , 38.8, 42.6, 46.4, 50.2, 54. ]),\n",
       " <BarContainer object of 10 artists>)"
      ]
     },
     "execution_count": 1224,
     "metadata": {},
     "output_type": "execute_result"
    },
    {
     "data": {
      "image/png": "[encoded data removed]",
      "text/plain": [
       "<Figure size 432x288 with 1 Axes>"
      ]
     },
     "metadata": {
      "needs_background": "light"
     },
     "output_type": "display_data"
    }
   ],
   "source": [
    "plt.hist(data.high_mpg)"
   ]
  },
  {
   "cell_type": "code",
   "execution_count": 1225,
   "id": "778cda51",
   "metadata": {},
   "outputs": [
    {
     "data": {
      "text/plain": [
       "ShapiroResult(statistic=0.9735103845596313, pvalue=0.0006515368004329503)"
      ]
     },
     "execution_count": 1225,
     "metadata": {},
     "output_type": "execute_result"
    }
   ],
   "source": [
    "stats.shapiro(data.high_mpg)"
   ]
  },
  {
   "cell_type": "markdown",
   "id": "d0132646",
   "metadata": {},
   "source": [
    "<H6>\n",
    "Not normallay distributed\n",
    "<H6>"
   ]
  },
  {
   "cell_type": "markdown",
   "id": "aceaa9af",
   "metadata": {},
   "source": [
    "<H6>\n",
    "COLUMN 26 : PRICE\n",
    "<H6>"
   ]
  },
  {
   "cell_type": "code",
   "execution_count": 1226,
   "id": "00d449a5",
   "metadata": {},
   "outputs": [
    {
     "data": {
      "text/plain": [
       "count      201.000000\n",
       "mean     13207.129353\n",
       "std       7947.066342\n",
       "min       5118.000000\n",
       "25%       7775.000000\n",
       "50%      10295.000000\n",
       "75%      16500.000000\n",
       "max      45400.000000\n",
       "Name: price, dtype: float64"
      ]
     },
     "execution_count": 1226,
     "metadata": {},
     "output_type": "execute_result"
    }
   ],
   "source": [
    "data.price.describe()"
   ]
  },
  {
   "cell_type": "code",
   "execution_count": 1227,
   "id": "5026aba4",
   "metadata": {},
   "outputs": [
    {
     "data": {
      "text/plain": [
       "4"
      ]
     },
     "execution_count": 1227,
     "metadata": {},
     "output_type": "execute_result"
    }
   ],
   "source": [
    "data.price.isnull().sum()"
   ]
  },
  {
   "cell_type": "code",
   "execution_count": 1228,
   "id": "24a60bc5",
   "metadata": {},
   "outputs": [
    {
     "data": {
      "text/plain": [
       "array([13495., 16500., 13950., 17450., 15250., 17710., 18920., 23875.,\n",
       "          nan, 16430., 16925., 20970., 21105., 24565., 30760., 41315.,\n",
       "       36880.,  5151.,  6295.,  6575.,  5572.,  6377.,  7957.,  6229.,\n",
       "        6692.,  7609.,  8558.,  8921., 12964.,  6479.,  6855.,  5399.,\n",
       "        6529.,  7129.,  7295.,  7895.,  9095.,  8845., 10295., 12945.,\n",
       "       10345.,  6785., 11048., 32250., 35550., 36000.,  5195.,  6095.,\n",
       "        6795.,  6695.,  7395., 10945., 11845., 13645., 15645.,  8495.,\n",
       "       10595., 10245., 10795., 11245., 18280., 18344., 25552., 28248.,\n",
       "       28176., 31600., 34184., 35056., 40960., 45400., 16503.,  5389.,\n",
       "        6189.,  6669.,  7689.,  9959.,  8499., 12629., 14869., 14489.,\n",
       "        6989.,  8189.,  9279.,  5499.,  7099.,  6649.,  6849.,  7349.,\n",
       "        7299.,  7799.,  7499.,  7999.,  8249.,  8949.,  9549., 13499.,\n",
       "       14399., 17199., 19699., 18399., 11900., 13200., 12440., 13860.,\n",
       "       15580., 16900., 16695., 17075., 16630., 17950., 18150., 12764.,\n",
       "       22018., 32528., 34028., 37028.,  9295.,  9895., 11850., 12170.,\n",
       "       15040., 15510., 18620.,  5118.,  7053.,  7603.,  7126.,  7775.,\n",
       "        9960.,  9233., 11259.,  7463., 10198.,  8013., 11694.,  5348.,\n",
       "        6338.,  6488.,  6918.,  7898.,  8778.,  6938.,  7198.,  7788.,\n",
       "        7738.,  8358.,  9258.,  8058.,  8238.,  9298.,  9538.,  8449.,\n",
       "        9639.,  9989., 11199., 11549., 17669.,  8948., 10698.,  9988.,\n",
       "       10898., 11248., 16558., 15998., 15690., 15750.,  7975.,  7995.,\n",
       "        8195.,  9495.,  9995., 11595.,  9980., 13295., 13845., 12290.,\n",
       "       12940., 13415., 15985., 16515., 18420., 18950., 16845., 19045.,\n",
       "       21485., 22470., 22625.])"
      ]
     },
     "execution_count": 1228,
     "metadata": {},
     "output_type": "execute_result"
    }
   ],
   "source": [
    "data.price.unique()"
   ]
  },
  {
   "cell_type": "code",
   "execution_count": 1229,
   "id": "e64e1b29",
   "metadata": {},
   "outputs": [],
   "source": [
    "data.price.fillna(13207.12,inplace=True)"
   ]
  },
  {
   "cell_type": "code",
   "execution_count": 1230,
   "id": "55363e88",
   "metadata": {},
   "outputs": [
    {
     "data": {
      "text/plain": [
       "0"
      ]
     },
     "execution_count": 1230,
     "metadata": {},
     "output_type": "execute_result"
    }
   ],
   "source": [
    "data.price.isnull().sum()"
   ]
  },
  {
   "cell_type": "code",
   "execution_count": 1231,
   "id": "30542466",
   "metadata": {},
   "outputs": [
    {
     "data": {
      "text/plain": [
       "{'whiskers': [<matplotlib.lines.Line2D at 0x1ead582fa30>,\n",
       "  <matplotlib.lines.Line2D at 0x1ead582fdc0>],\n",
       " 'caps': [<matplotlib.lines.Line2D at 0x1ead583e190>,\n",
       "  <matplotlib.lines.Line2D at 0x1ead583e520>],\n",
       " 'boxes': [<matplotlib.lines.Line2D at 0x1ead582f670>],\n",
       " 'medians': [<matplotlib.lines.Line2D at 0x1ead583e8b0>],\n",
       " 'fliers': [<matplotlib.lines.Line2D at 0x1ead583ec40>],\n",
       " 'means': []}"
      ]
     },
     "execution_count": 1231,
     "metadata": {},
     "output_type": "execute_result"
    },
    {
     "data": {
      "image/png": "[encoded data removed]",
      "text/plain": [
       "<Figure size 432x288 with 1 Axes>"
      ]
     },
     "metadata": {
      "needs_background": "light"
     },
     "output_type": "display_data"
    }
   ],
   "source": [
    "plt.boxplot(data.price)"
   ]
  },
  {
   "cell_type": "code",
   "execution_count": 1232,
   "id": "b49eab87",
   "metadata": {},
   "outputs": [
    {
     "data": {
      "text/plain": [
       "(array([81., 45., 39., 17.,  6.,  3.,  4.,  7.,  2.,  1.]),\n",
       " array([ 5118. ,  9146.2, 13174.4, 17202.6, 21230.8, 25259. , 29287.2,\n",
       "        33315.4, 37343.6, 41371.8, 45400. ]),\n",
       " <BarContainer object of 10 artists>)"
      ]
     },
     "execution_count": 1232,
     "metadata": {},
     "output_type": "execute_result"
    },
    {
     "data": {
      "image/png": "[encoded data removed]",
      "text/plain": [
       "<Figure size 432x288 with 1 Axes>"
      ]
     },
     "metadata": {
      "needs_background": "light"
     },
     "output_type": "display_data"
    }
   ],
   "source": [
    "plt.hist(data.price)"
   ]
  },
  {
   "cell_type": "code",
   "execution_count": 1233,
   "id": "481efe4f",
   "metadata": {},
   "outputs": [
    {
     "data": {
      "text/plain": [
       "ShapiroResult(statistic=0.7997005581855774, pvalue=1.691838515494677e-15)"
      ]
     },
     "execution_count": 1233,
     "metadata": {},
     "output_type": "execute_result"
    }
   ],
   "source": [
    "stats.shapiro(data.price)"
   ]
  },
  {
   "cell_type": "markdown",
   "id": "dcabb371",
   "metadata": {},
   "source": [
    "<H6>\n",
    "Not normallay distributed\n",
    "<H6>"
   ]
  },
  {
   "cell_type": "markdown",
   "id": "3d016971",
   "metadata": {},
   "source": [
    "<H2>\n",
    "MODEL CREATION\n",
    "<H2>"
   ]
  },
  {
   "cell_type": "markdown",
   "id": "8ca36657",
   "metadata": {},
   "source": [
    "<H6>\n",
    "Y=PRICE ------------------AND  X= INDEPENDENT PARAMETERS\n",
    "<H6>"
   ]
  },
  {
   "cell_type": "markdown",
   "id": "1cf8d4d9",
   "metadata": {},
   "source": [
    "<H6>\n",
    "Strength testing\n",
    "<H6>"
   ]
  },
  {
   "cell_type": "code",
   "execution_count": 1234,
   "id": "bc308670",
   "metadata": {},
   "outputs": [
    {
     "name": "stdout",
     "output_type": "stream",
     "text": [
      "(0.13399873429274156, 0.055430578263185495)\n"
     ]
    }
   ],
   "source": [
    "strength=stats.pearsonr(data.nor_los,data.price)\n",
    "print(strength)"
   ]
  },
  {
   "cell_type": "code",
   "execution_count": 1235,
   "id": "eadf399c",
   "metadata": {},
   "outputs": [
    {
     "name": "stdout",
     "output_type": "stream",
     "text": [
      "(0.5831681578420751, 4.527619099752949e-20)\n"
     ]
    }
   ],
   "source": [
    "strength=stats.pearsonr(data.wheel_base,data.price)\n",
    "print(strength)"
   ]
  },
  {
   "cell_type": "code",
   "execution_count": 1236,
   "id": "9959a2f0",
   "metadata": {},
   "outputs": [
    {
     "name": "stdout",
     "output_type": "stream",
     "text": [
      "(0.682986309841956, 1.6498811196243998e-29)\n"
     ]
    }
   ],
   "source": [
    "strength=stats.pearsonr(data.length,data.price)\n",
    "print(strength)"
   ]
  },
  {
   "cell_type": "code",
   "execution_count": 1237,
   "id": "016a0a3f",
   "metadata": {},
   "outputs": [
    {
     "name": "stdout",
     "output_type": "stream",
     "text": [
      "(0.7286988073565407, 3.214530906958775e-35)\n"
     ]
    }
   ],
   "source": [
    "strength=stats.pearsonr(data.width,data.price)\n",
    "print(strength)"
   ]
  },
  {
   "cell_type": "code",
   "execution_count": 1238,
   "id": "817b99e1",
   "metadata": {},
   "outputs": [
    {
     "name": "stdout",
     "output_type": "stream",
     "text": [
      "(0.13438753873967407, 0.05471978406313776)\n"
     ]
    }
   ],
   "source": [
    "strength=stats.pearsonr(data.height,data.price)\n",
    "print(strength)"
   ]
  },
  {
   "cell_type": "code",
   "execution_count": 1239,
   "id": "73e814f7",
   "metadata": {},
   "outputs": [
    {
     "name": "stdout",
     "output_type": "stream",
     "text": [
      "(0.8208247335814778, 2.8663317742973685e-51)\n"
     ]
    }
   ],
   "source": [
    "strength=stats.pearsonr(data.curb_weight,data.price)\n",
    "print(strength)"
   ]
  },
  {
   "cell_type": "code",
   "execution_count": 1240,
   "id": "8fca4433",
   "metadata": {},
   "outputs": [
    {
     "name": "stdout",
     "output_type": "stream",
     "text": [
      "(0.8617522427945548, 9.669667792068792e-62)\n"
     ]
    }
   ],
   "source": [
    "strength=stats.pearsonr(data.engine_size,data.price)\n",
    "print(strength)"
   ]
  },
  {
   "cell_type": "code",
   "execution_count": 1241,
   "id": "d9f686ce",
   "metadata": {},
   "outputs": [
    {
     "name": "stdout",
     "output_type": "stream",
     "text": [
      "(0.5323000236048456, 2.1398293235758156e-16)\n"
     ]
    }
   ],
   "source": [
    "strength=stats.pearsonr(data.bore,data.price)\n",
    "print(strength)"
   ]
  },
  {
   "cell_type": "code",
   "execution_count": 1242,
   "id": "52e699c6",
   "metadata": {},
   "outputs": [
    {
     "name": "stdout",
     "output_type": "stream",
     "text": [
      "(0.08209530096106149, 0.24191453739058402)\n"
     ]
    }
   ],
   "source": [
    "strength=stats.pearsonr(data.stroke,data.price)\n",
    "print(strength)"
   ]
  },
  {
   "cell_type": "code",
   "execution_count": 1243,
   "id": "70506995",
   "metadata": {},
   "outputs": [
    {
     "name": "stdout",
     "output_type": "stream",
     "text": [
      "(0.07099036918974042, 0.31178244814226413)\n"
     ]
    }
   ],
   "source": [
    "strength=stats.pearsonr(data.com_ratio,data.price)\n",
    "print(strength)"
   ]
  },
  {
   "cell_type": "code",
   "execution_count": 1244,
   "id": "24bb2cf0",
   "metadata": {},
   "outputs": [
    {
     "name": "stdout",
     "output_type": "stream",
     "text": [
      "(0.7579169285411245, 1.6076851026400954e-39)\n"
     ]
    }
   ],
   "source": [
    "strength=stats.pearsonr(data.hpower,data.price)\n",
    "print(strength)"
   ]
  },
  {
   "cell_type": "code",
   "execution_count": 1245,
   "id": "40194385",
   "metadata": {},
   "outputs": [
    {
     "name": "stdout",
     "output_type": "stream",
     "text": [
      "(-0.10085408482828398, 0.15019239267007353)\n"
     ]
    }
   ],
   "source": [
    "strength=stats.pearsonr(data.peak_rpm,data.price)\n",
    "print(strength)"
   ]
  },
  {
   "cell_type": "code",
   "execution_count": 1246,
   "id": "912c3aba",
   "metadata": {},
   "outputs": [
    {
     "name": "stdout",
     "output_type": "stream",
     "text": [
      "(-0.6674492723937713, 8.463685448059471e-28)\n"
     ]
    }
   ],
   "source": [
    "strength=stats.pearsonr(data.city_mpg,data.price)\n",
    "print(strength)"
   ]
  },
  {
   "cell_type": "code",
   "execution_count": 1247,
   "id": "095229a3",
   "metadata": {},
   "outputs": [
    {
     "name": "stdout",
     "output_type": "stream",
     "text": [
      "(-0.69052574511372, 2.2324607940569938e-30)\n"
     ]
    }
   ],
   "source": [
    "strength=stats.pearsonr(data.high_mpg,data.price)\n",
    "print(strength)"
   ]
  },
  {
   "cell_type": "markdown",
   "id": "b5bea0a1",
   "metadata": {},
   "source": [
    "<H6>\n",
    "hyposthesis testing-------------------------------------\n",
    "x=parameters----------------------------------------------\n",
    "y=price---------------------------------------------------------\n",
    "H0:paramesters does not affect price------------------------\n",
    "H1:paramesters affect price---------------------------------------------\n",
    "    <H6>"
   ]
  },
  {
   "cell_type": "code",
   "execution_count": 1248,
   "id": "5ffd2c1b",
   "metadata": {},
   "outputs": [
    {
     "data": {
      "text/plain": [
       "F_onewayResult(statistic=8.596939521544897, pvalue=2.0165658403686097e-06)"
      ]
     },
     "execution_count": 1248,
     "metadata": {},
     "output_type": "execute_result"
    }
   ],
   "source": [
    "part1=data.price[data.sym==\"less than zero\"]\n",
    "part2=data.price[data.sym==\"zero\"]\n",
    "part3=data.price[data.sym==\"one\"]\n",
    "part4=data.price[data.sym==\"two\"]\n",
    "part5=data.price[data.sym==\"three\"]\n",
    "stats.f_oneway(part1,part2,part3,part4,part5)"
   ]
  },
  {
   "cell_type": "code",
   "execution_count": 1249,
   "id": "dfece635",
   "metadata": {},
   "outputs": [
    {
     "name": "stderr",
     "output_type": "stream",
     "text": [
      "C:\\ProgramData\\Anaconda3\\lib\\site-packages\\IPython\\core\\displayhook.py:275: UserWarning: Output cache limit (currently 1000 entries) hit.\n",
      "Flushing oldest 200 entries.\n",
      "  warn('Output cache limit (currently {sz} entries) hit.\\n'\n"
     ]
    },
    {
     "data": {
      "text/plain": [
       "F_onewayResult(statistic=29.50221197366595, pvalue=1.0198262293854049e-47)"
      ]
     },
     "execution_count": 1249,
     "metadata": {},
     "output_type": "execute_result"
    }
   ],
   "source": [
    "part1=data.price[data.make==\"alfa-romero\"]\n",
    "part2=data.price[data.make==\"audi\"]\n",
    "part3=data.price[data.make==\"bmw\"]\n",
    "part4=data.price[data.make==\"chevrolet\"]\n",
    "part5=data.price[data.make==\"dodge\"]\n",
    "part6=data.price[data.make==\"honda\"]\n",
    "part7=data.price[data.make==\"isuzu\"]\n",
    "part8=data.price[data.make==\"jaguar\"]\n",
    "part9=data.price[data.make==\"mazda\"]\n",
    "part10=data.price[data.make==\"mercedes-benz\"]\n",
    "part11=data.price[data.make==\"mercury\"]\n",
    "part12=data.price[data.make==\"mitsubishi\"]\n",
    "part13=data.price[data.make==\"nissan\"]\n",
    "part14=data.price[data.make==\"peugot\"]\n",
    "part15=data.price[data.make==\"plymouth\"]\n",
    "part16=data.price[data.make==\"porsche\"]\n",
    "part17=data.price[data.make==\"renault\"]\n",
    "part18=data.price[data.make==\"saab\"]\n",
    "part19=data.price[data.make==\"subaru\"]\n",
    "part20=data.price[data.make==\"toyota\"]\n",
    "part21=data.price[data.make==\"volkswagen\"]\n",
    "part22=data.price[data.make==\"volvo\"]\n",
    "stats.f_oneway(part1,part2,part3,part4,part5,part6,part7,part8,part9,part10,part11,part12,part13,part14,part15,part16,part17,part18,part19,part20,part21,part22)\n"
   ]
  },
  {
   "cell_type": "code",
   "execution_count": 1250,
   "id": "0fda387f",
   "metadata": {},
   "outputs": [
    {
     "data": {
      "text/plain": [
       "F_onewayResult(statistic=2.4958593265784024, pvalue=0.11570294984522285)"
      ]
     },
     "execution_count": 1250,
     "metadata": {},
     "output_type": "execute_result"
    }
   ],
   "source": [
    "part1=data.price[data.fuel_type==\"gas\"]\n",
    "part2=data.price[data.fuel_type==\"diesel\"]\n",
    "stats.f_oneway(part1,part2)"
   ]
  },
  {
   "cell_type": "code",
   "execution_count": 1251,
   "id": "23c33d8d",
   "metadata": {},
   "outputs": [
    {
     "data": {
      "text/plain": [
       "F_onewayResult(statistic=6.587289532724407, pvalue=0.01099104840531903)"
      ]
     },
     "execution_count": 1251,
     "metadata": {},
     "output_type": "execute_result"
    }
   ],
   "source": [
    "part1=data.price[data.asp==\"std\"]\n",
    "part2=data.price[data.asp==\"turbo\"]\n",
    "stats.f_oneway(part1,part2)"
   ]
  },
  {
   "cell_type": "code",
   "execution_count": 1252,
   "id": "57a579fe",
   "metadata": {},
   "outputs": [
    {
     "data": {
      "text/plain": [
       "F_onewayResult(statistic=0.3577854189236959, pvalue=0.5504054958228669)"
      ]
     },
     "execution_count": 1252,
     "metadata": {},
     "output_type": "execute_result"
    }
   ],
   "source": [
    "part1=data.price[data.no_door==\"two\"]\n",
    "part2=data.price[data.no_door==\"four\"]\n",
    "stats.f_oneway(part1,part2)"
   ]
  },
  {
   "cell_type": "code",
   "execution_count": 1253,
   "id": "349c3405",
   "metadata": {},
   "outputs": [
    {
     "data": {
      "text/plain": [
       "F_onewayResult(statistic=9.18392765311025, pvalue=7.844570683523211e-07)"
      ]
     },
     "execution_count": 1253,
     "metadata": {},
     "output_type": "execute_result"
    }
   ],
   "source": [
    "part1=data.price[data.body_style==\"convertible\"]\n",
    "part2=data.price[data.body_style==\"hatchback\"]\n",
    "part3=data.price[data.body_style==\"sedan\"]\n",
    "part4=data.price[data.body_style==\"wagon\"]\n",
    "part5=data.price[data.body_style==\"hardtop\"]\n",
    "stats.f_oneway(part1,part2,part3,part4,part5)"
   ]
  },
  {
   "cell_type": "code",
   "execution_count": 1254,
   "id": "67f0aacf",
   "metadata": {},
   "outputs": [
    {
     "data": {
      "text/plain": [
       "F_onewayResult(statistic=108.27334726415472, pvalue=1.349033748481625e-20)"
      ]
     },
     "execution_count": 1254,
     "metadata": {},
     "output_type": "execute_result"
    }
   ],
   "source": [
    "part1=data.price[data.d_wheel==\"not fwd\"]\n",
    "part2=data.price[data.d_wheel==\"fwd\"]\n",
    "stats.f_oneway(part1,part2)"
   ]
  },
  {
   "cell_type": "code",
   "execution_count": 1255,
   "id": "2441dbdd",
   "metadata": {},
   "outputs": [
    {
     "data": {
      "text/plain": [
       "F_onewayResult(statistic=24.979629670708995, pvalue=1.2486060888224299e-06)"
      ]
     },
     "execution_count": 1255,
     "metadata": {},
     "output_type": "execute_result"
    }
   ],
   "source": [
    "part1=data.price[data.engine_loc==\"front\"]\n",
    "part2=data.price[data.engine_loc==\"rear\"]\n",
    "stats.f_oneway(part1,part2)"
   ]
  },
  {
   "cell_type": "code",
   "execution_count": 1256,
   "id": "602daec6",
   "metadata": {},
   "outputs": [
    {
     "data": {
      "text/plain": [
       "F_onewayResult(statistic=24.772969672565715, pvalue=1.373687171199218e-06)"
      ]
     },
     "execution_count": 1256,
     "metadata": {},
     "output_type": "execute_result"
    }
   ],
   "source": [
    "part1=data.price[data.engine_type==\"non ohc\"]\n",
    "part2=data.price[data.engine_type==\"ohc\"]\n",
    "stats.f_oneway(part1,part2)"
   ]
  },
  {
   "cell_type": "code",
   "execution_count": 1257,
   "id": "9a9d52ae",
   "metadata": {},
   "outputs": [
    {
     "data": {
      "text/plain": [
       "F_onewayResult(statistic=173.7914541480181, pvalue=4.465239260543058e-29)"
      ]
     },
     "execution_count": 1257,
     "metadata": {},
     "output_type": "execute_result"
    }
   ],
   "source": [
    "part1=data.price[data.no_cyl==\"four\"]\n",
    "part2=data.price[data.no_cyl==\"other than four\"]\n",
    "stats.f_oneway(part1,part2)"
   ]
  },
  {
   "cell_type": "code",
   "execution_count": 1258,
   "id": "1517e112",
   "metadata": {},
   "outputs": [
    {
     "data": {
      "text/plain": [
       "F_onewayResult(statistic=44.083895762873645, pvalue=1.2969363967473907e-16)"
      ]
     },
     "execution_count": 1258,
     "metadata": {},
     "output_type": "execute_result"
    }
   ],
   "source": [
    "part1=data.price[data.fuel_system==\"mpfi\"]\n",
    "part2=data.price[data.fuel_system==\"2bbl\"]\n",
    "part3=data.price[data.fuel_system==\"others\"]\n",
    "stats.f_oneway(part1,part2,part3)"
   ]
  },
  {
   "cell_type": "markdown",
   "id": "d613427f",
   "metadata": {},
   "source": [
    "<H6>\n",
    "Y=PRICE\n",
    "X=HORSE POWER,ENGINE SIZE,CRUB WEIGHT,WIDTH----------------------------------\n",
    "CREAT EQUATION\n",
    "<H6>"
   ]
  },
  {
   "cell_type": "code",
   "execution_count": 1259,
   "id": "3cdd6489",
   "metadata": {},
   "outputs": [],
   "source": [
    "y=data.price\n"
   ]
  },
  {
   "cell_type": "code",
   "execution_count": 1270,
   "id": "00ab9701",
   "metadata": {},
   "outputs": [],
   "source": [
    "x=data.drop(['price','nor_los','wheel_base','length','height','bore','stroke','com_ratio','peak_rpm','city_mpg','high_mpg','no_door','fuel_type','sym', 'make', 'asp','body_style', 'd_wheel','engine_loc', 'engine_type', 'no_cyl','fuel_system'],axis=1)"
   ]
  },
  {
   "cell_type": "code",
   "execution_count": 1271,
   "id": "e0654544",
   "metadata": {},
   "outputs": [
    {
     "data": {
      "text/plain": [
       "Index(['width', 'curb_weight', 'engine_size', 'hpower'], dtype='object')"
      ]
     },
     "execution_count": 1271,
     "metadata": {},
     "output_type": "execute_result"
    }
   ],
   "source": [
    "x.columns"
   ]
  },
  {
   "cell_type": "code",
   "execution_count": 1272,
   "id": "e5293e59",
   "metadata": {},
   "outputs": [
    {
     "data": {
      "text/plain": [
       "(205, 4)"
      ]
     },
     "execution_count": 1272,
     "metadata": {},
     "output_type": "execute_result"
    }
   ],
   "source": [
    "x.shape"
   ]
  },
  {
   "cell_type": "code",
   "execution_count": 1273,
   "id": "008b6b36",
   "metadata": {},
   "outputs": [
    {
     "data": {
      "text/plain": [
       "(205,)"
      ]
     },
     "execution_count": 1273,
     "metadata": {},
     "output_type": "execute_result"
    }
   ],
   "source": [
    "y.shape"
   ]
  },
  {
   "cell_type": "code",
   "execution_count": 1274,
   "id": "cbf38638",
   "metadata": {},
   "outputs": [],
   "source": [
    "train_y=y.iloc[0:164]\n"
   ]
  },
  {
   "cell_type": "code",
   "execution_count": 1275,
   "id": "5d501a68",
   "metadata": {},
   "outputs": [],
   "source": [
    "test_y=y.iloc[164:]\n"
   ]
  },
  {
   "cell_type": "code",
   "execution_count": 1276,
   "id": "909672f0",
   "metadata": {},
   "outputs": [],
   "source": [
    "train_x=x.iloc[0:164]\n"
   ]
  },
  {
   "cell_type": "code",
   "execution_count": 1277,
   "id": "d4e91b71",
   "metadata": {},
   "outputs": [],
   "source": [
    "test_x=x.iloc[164:]\n"
   ]
  },
  {
   "cell_type": "code",
   "execution_count": 1278,
   "id": "55015ac6",
   "metadata": {},
   "outputs": [
    {
     "data": {
      "text/plain": [
       "(205, 4)"
      ]
     },
     "execution_count": 1278,
     "metadata": {},
     "output_type": "execute_result"
    }
   ],
   "source": [
    "x.shape"
   ]
  },
  {
   "cell_type": "code",
   "execution_count": 1283,
   "id": "b13c9b3b",
   "metadata": {},
   "outputs": [],
   "source": [
    "x1=train_x\n",
    "x2=test_x"
   ]
  },
  {
   "cell_type": "code",
   "execution_count": 1291,
   "id": "e439f0f6",
   "metadata": {},
   "outputs": [
    {
     "name": "stderr",
     "output_type": "stream",
     "text": [
      "C:\\ProgramData\\Anaconda3\\lib\\site-packages\\statsmodels\\tsa\\tsatools.py:142: FutureWarning: In a future version of pandas all arguments of concat except for the argument 'objs' will be keyword-only\n",
      "  x = pd.concat(x[::order], 1)\n"
     ]
    }
   ],
   "source": [
    "train_x=sm.add_constant(train_x)\n",
    "test_x=sm.add_constant(test_x)"
   ]
  },
  {
   "cell_type": "code",
   "execution_count": 1292,
   "id": "0d053ab5",
   "metadata": {},
   "outputs": [],
   "source": [
    "model=sm.OLS(train_y,train_x).fit()"
   ]
  },
  {
   "cell_type": "code",
   "execution_count": 1293,
   "id": "a5e9ab23",
   "metadata": {},
   "outputs": [
    {
     "data": {
      "text/html": [
       "<table class=\"simpletable\">\n",
       "<caption>OLS Regression Results</caption>\n",
       "<tr>\n",
       "  <th>Dep. Variable:</th>          <td>price</td>      <th>  R-squared:         </th> <td>   0.795</td>\n",
       "</tr>\n",
       "<tr>\n",
       "  <th>Model:</th>                   <td>OLS</td>       <th>  Adj. R-squared:    </th> <td>   0.790</td>\n",
       "</tr>\n",
       "<tr>\n",
       "  <th>Method:</th>             <td>Least Squares</td>  <th>  F-statistic:       </th> <td>   154.1</td>\n",
       "</tr>\n",
       "<tr>\n",
       "  <th>Date:</th>             <td>Sat, 02 Apr 2022</td> <th>  Prob (F-statistic):</th> <td>1.28e-53</td>\n",
       "</tr>\n",
       "<tr>\n",
       "  <th>Time:</th>                 <td>21:32:56</td>     <th>  Log-Likelihood:    </th> <td> -1586.9</td>\n",
       "</tr>\n",
       "<tr>\n",
       "  <th>No. Observations:</th>      <td>   164</td>      <th>  AIC:               </th> <td>   3184.</td>\n",
       "</tr>\n",
       "<tr>\n",
       "  <th>Df Residuals:</th>          <td>   159</td>      <th>  BIC:               </th> <td>   3199.</td>\n",
       "</tr>\n",
       "<tr>\n",
       "  <th>Df Model:</th>              <td>     4</td>      <th>                     </th>     <td> </td>   \n",
       "</tr>\n",
       "<tr>\n",
       "  <th>Covariance Type:</th>      <td>nonrobust</td>    <th>                     </th>     <td> </td>   \n",
       "</tr>\n",
       "</table>\n",
       "<table class=\"simpletable\">\n",
       "<tr>\n",
       "       <td></td>          <th>coef</th>     <th>std err</th>      <th>t</th>      <th>P>|t|</th>  <th>[0.025</th>    <th>0.975]</th>  \n",
       "</tr>\n",
       "<tr>\n",
       "  <th>const</th>       <td>-2.277e+04</td> <td> 1.58e+04</td> <td>   -1.445</td> <td> 0.151</td> <td>-5.39e+04</td> <td> 8357.972</td>\n",
       "</tr>\n",
       "<tr>\n",
       "  <th>width</th>       <td>  183.8592</td> <td>  276.683</td> <td>    0.665</td> <td> 0.507</td> <td> -362.589</td> <td>  730.307</td>\n",
       "</tr>\n",
       "<tr>\n",
       "  <th>curb_weight</th> <td>    3.0052</td> <td>    1.476</td> <td>    2.037</td> <td> 0.043</td> <td>    0.091</td> <td>    5.919</td>\n",
       "</tr>\n",
       "<tr>\n",
       "  <th>engine_size</th> <td>  106.2351</td> <td>   15.368</td> <td>    6.913</td> <td> 0.000</td> <td>   75.883</td> <td>  136.588</td>\n",
       "</tr>\n",
       "<tr>\n",
       "  <th>hpower</th>      <td>   28.1846</td> <td>   12.967</td> <td>    2.174</td> <td> 0.031</td> <td>    2.575</td> <td>   53.794</td>\n",
       "</tr>\n",
       "</table>\n",
       "<table class=\"simpletable\">\n",
       "<tr>\n",
       "  <th>Omnibus:</th>       <td>18.943</td> <th>  Durbin-Watson:     </th> <td>   1.075</td>\n",
       "</tr>\n",
       "<tr>\n",
       "  <th>Prob(Omnibus):</th> <td> 0.000</td> <th>  Jarque-Bera (JB):  </th> <td>  75.485</td>\n",
       "</tr>\n",
       "<tr>\n",
       "  <th>Skew:</th>          <td> 0.154</td> <th>  Prob(JB):          </th> <td>4.06e-17</td>\n",
       "</tr>\n",
       "<tr>\n",
       "  <th>Kurtosis:</th>      <td> 6.309</td> <th>  Cond. No.          </th> <td>1.34e+05</td>\n",
       "</tr>\n",
       "</table><br/><br/>Notes:<br/>[1] Standard Errors assume that the covariance matrix of the errors is correctly specified.<br/>[2] The condition number is large, 1.34e+05. This might indicate that there are<br/>strong multicollinearity or other numerical problems."
      ],
      "text/plain": [
       "<class 'statsmodels.iolib.summary.Summary'>\n",
       "\"\"\"\n",
       "                            OLS Regression Results                            \n",
       "==============================================================================\n",
       "Dep. Variable:                  price   R-squared:                       0.795\n",
       "Model:                            OLS   Adj. R-squared:                  0.790\n",
       "Method:                 Least Squares   F-statistic:                     154.1\n",
       "Date:                Sat, 02 Apr 2022   Prob (F-statistic):           1.28e-53\n",
       "Time:                        21:32:56   Log-Likelihood:                -1586.9\n",
       "No. Observations:                 164   AIC:                             3184.\n",
       "Df Residuals:                     159   BIC:                             3199.\n",
       "Df Model:                           4                                         \n",
       "Covariance Type:            nonrobust                                         \n",
       "===============================================================================\n",
       "                  coef    std err          t      P>|t|      [0.025      0.975]\n",
       "-------------------------------------------------------------------------------\n",
       "const       -2.277e+04   1.58e+04     -1.445      0.151   -5.39e+04    8357.972\n",
       "width         183.8592    276.683      0.665      0.507    -362.589     730.307\n",
       "curb_weight     3.0052      1.476      2.037      0.043       0.091       5.919\n",
       "engine_size   106.2351     15.368      6.913      0.000      75.883     136.588\n",
       "hpower         28.1846     12.967      2.174      0.031       2.575      53.794\n",
       "==============================================================================\n",
       "Omnibus:                       18.943   Durbin-Watson:                   1.075\n",
       "Prob(Omnibus):                  0.000   Jarque-Bera (JB):               75.485\n",
       "Skew:                           0.154   Prob(JB):                     4.06e-17\n",
       "Kurtosis:                       6.309   Cond. No.                     1.34e+05\n",
       "==============================================================================\n",
       "\n",
       "Notes:\n",
       "[1] Standard Errors assume that the covariance matrix of the errors is correctly specified.\n",
       "[2] The condition number is large, 1.34e+05. This might indicate that there are\n",
       "strong multicollinearity or other numerical problems.\n",
       "\"\"\""
      ]
     },
     "execution_count": 1293,
     "metadata": {},
     "output_type": "execute_result"
    }
   ],
   "source": [
    "model.summary()"
   ]
  },
  {
   "cell_type": "code",
   "execution_count": 1294,
   "id": "7a56b890",
   "metadata": {},
   "outputs": [],
   "source": [
    "predicted_y=model.predict(test_x)\n"
   ]
  },
  {
   "cell_type": "code",
   "execution_count": 1296,
   "id": "b855d2e5",
   "metadata": {},
   "outputs": [
    {
     "data": {
      "text/plain": [
       "<AxesSubplot:xlabel='hpower', ylabel='price'>"
      ]
     },
     "execution_count": 1296,
     "metadata": {},
     "output_type": "execute_result"
    },
    {
     "data": {
      "image/png": "[encoded data removed]",
      "text/plain": [
       "<Figure size 720x720 with 1 Axes>"
      ]
     },
     "metadata": {
      "needs_background": "light"
     },
     "output_type": "display_data"
    }
   ],
   "source": [
    "plt.figure(figsize=(10,10))\n",
    "sns.scatterplot(x=train_x.hpower,y=train_y)\n",
    "sns.lineplot(x=test_x.hpower,y=test_y,color='green')\n",
    "sns.lineplot(x=test_x.hpower,y=predicted_y,color='red')"
   ]
  },
  {
   "cell_type": "code",
   "execution_count": 1297,
   "id": "12de8cbb",
   "metadata": {},
   "outputs": [
    {
     "data": {
      "text/plain": [
       "<AxesSubplot:xlabel='curb_weight', ylabel='price'>"
      ]
     },
     "execution_count": 1297,
     "metadata": {},
     "output_type": "execute_result"
    },
    {
     "data": {
      "image/png": "[encoded data removed]",
      "text/plain": [
       "<Figure size 720x720 with 1 Axes>"
      ]
     },
     "metadata": {
      "needs_background": "light"
     },
     "output_type": "display_data"
    }
   ],
   "source": [
    "plt.figure(figsize=(10,10))\n",
    "sns.scatterplot(x=train_x.curb_weight,y=train_y)\n",
    "sns.lineplot(x=test_x.curb_weight,y=test_y,color='green')\n",
    "sns.lineplot(x=test_x.curb_weight,y=predicted_y,color='red')"
   ]
  },
  {
   "cell_type": "code",
   "execution_count": 1298,
   "id": "3ccb1f0b",
   "metadata": {},
   "outputs": [
    {
     "data": {
      "text/plain": [
       "<AxesSubplot:xlabel='engine_size', ylabel='price'>"
      ]
     },
     "execution_count": 1298,
     "metadata": {},
     "output_type": "execute_result"
    },
    {
     "data": {
      "image/png": "[encoded data removed]",
      "text/plain": [
       "<Figure size 720x720 with 1 Axes>"
      ]
     },
     "metadata": {
      "needs_background": "light"
     },
     "output_type": "display_data"
    }
   ],
   "source": [
    "plt.figure(figsize=(10,10))\n",
    "sns.scatterplot(x=train_x.engine_size,y=train_y)\n",
    "sns.lineplot(x=test_x.engine_size,y=test_y,color='green')\n",
    "sns.lineplot(x=test_x.engine_size,y=predicted_y,color='red')"
   ]
  }
 ],
 "metadata": {
  "kernelspec": {
   "display_name": "Python 3 (ipykernel)",
   "language": "python",
   "name": "python3"
  },
  "language_info": {
   "codemirror_mode": {
    "name": "ipython",
    "version": 3
   },
   "file_extension": ".py",
   "mimetype": "text/x-python",
   "name": "python",
   "nbconvert_exporter": "python",
   "pygments_lexer": "ipython3",
   "version": "3.9.7"
  }
 },
 "nbformat": 4,
 "nbformat_minor": 5
}
